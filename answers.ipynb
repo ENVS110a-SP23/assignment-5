{
 "cells": [
  {
   "cell_type": "markdown",
   "metadata": {},
   "source": [
    "# Assignment 5: Statistical Analysis (30 pt)\n",
    "\n",
    "Use as many Python and markdown cells per question as you deem necessary. **DO NOT SUBMIT CODE THAT DOES NOT RUN.** You will lose points for code that throws errors. \n",
    "\n",
    "Questions 1 and 2 will use data describing various wetlands, intertidal zones, and ocean conditions in the United States from 1972-2015. This data has been adapted from [publicly available data from NASA](https://daac.ornl.gov/NACP/guides/Tidal_Wetland_Estuaries_Data.html). Note that this file uses the value `-9999` to denote missing data. This file's path is `data/tidal_wetland_estuaries.csv`.\n",
    "\n",
    "Question 3 will be using time series data describing the proportion of electricity produced by coal in high income countries from [the World Bank](https://data.worldbank.org/indicator/EG.ELC.COAL.ZS). The path to the file is `data/coal-production.csv`.\n"
   ]
  },
  {
   "cell_type": "markdown",
   "metadata": {},
   "source": [
    "## Question 1: t-tests (10 pt)\n",
    "\n",
    "Using the data from `tidal_wetland_estuaries.csv`, test the hypothesis that soil organic carbon density (column name: `soc_density`) is **larger** in the East coast than the West coast with a t-test. Interpret the t-test. (5 pt)\n",
    "\n",
    "Defend your choice of which type of t-test you used (3 pt).\n",
    "\n",
    "Do the data meet the requirement for normal data? Why or why not? (2 pt) "
   ]
  },
  {
   "cell_type": "code",
   "execution_count": 44,
   "metadata": {},
   "outputs": [],
   "source": [
    "import scipy.stats as stats\n",
    "from scipy.stats import ttest_ind\n",
    "import pandas as pd\n",
    "import numpy as np\n",
    "import matplotlib.pyplot as plt\n",
    "import seaborn as sns"
   ]
  },
  {
   "cell_type": "code",
   "execution_count": 2,
   "metadata": {},
   "outputs": [
    {
     "data": {
      "text/html": [
       "<div>\n",
       "<style scoped>\n",
       "    .dataframe tbody tr th:only-of-type {\n",
       "        vertical-align: middle;\n",
       "    }\n",
       "\n",
       "    .dataframe tbody tr th {\n",
       "        vertical-align: top;\n",
       "    }\n",
       "\n",
       "    .dataframe thead th {\n",
       "        text-align: right;\n",
       "    }\n",
       "</style>\n",
       "<table border=\"1\" class=\"dataframe\">\n",
       "  <thead>\n",
       "    <tr style=\"text-align: right;\">\n",
       "      <th></th>\n",
       "      <th>name</th>\n",
       "      <th>coast</th>\n",
       "      <th>estu_latitude</th>\n",
       "      <th>estu_longintude</th>\n",
       "      <th>estu_dep</th>\n",
       "      <th>estu_perim</th>\n",
       "      <th>land_area</th>\n",
       "      <th>land_latitude</th>\n",
       "      <th>land_longitude</th>\n",
       "      <th>population</th>\n",
       "      <th>...</th>\n",
       "      <th>ocean_salinity_mean</th>\n",
       "      <th>air_temp_mean</th>\n",
       "      <th>frost_days_per_yr</th>\n",
       "      <th>ocean_sst_mean</th>\n",
       "      <th>ocean_diss_inorg_p</th>\n",
       "      <th>ocean_no3</th>\n",
       "      <th>tide_flow</th>\n",
       "      <th>mean_precip</th>\n",
       "      <th>mean_temp</th>\n",
       "      <th>soc_density</th>\n",
       "    </tr>\n",
       "  </thead>\n",
       "  <tbody>\n",
       "    <tr>\n",
       "      <th>0</th>\n",
       "      <td>Florida Bay</td>\n",
       "      <td>GULF</td>\n",
       "      <td>25.039940</td>\n",
       "      <td>-80.731770</td>\n",
       "      <td>0.62000</td>\n",
       "      <td>614000.000</td>\n",
       "      <td>9.048954e+08</td>\n",
       "      <td>25.187310</td>\n",
       "      <td>-80.727540</td>\n",
       "      <td>3421</td>\n",
       "      <td>...</td>\n",
       "      <td>36.2</td>\n",
       "      <td>24.4</td>\n",
       "      <td>0.0</td>\n",
       "      <td>26.50</td>\n",
       "      <td>0.07</td>\n",
       "      <td>0.810</td>\n",
       "      <td>1.000000e+09</td>\n",
       "      <td>1251.831801</td>\n",
       "      <td>24.594719</td>\n",
       "      <td>0.087</td>\n",
       "    </tr>\n",
       "    <tr>\n",
       "      <th>1</th>\n",
       "      <td>South Ten Thousand Islands</td>\n",
       "      <td>GULF</td>\n",
       "      <td>25.311330</td>\n",
       "      <td>-81.057020</td>\n",
       "      <td>0.63000</td>\n",
       "      <td>597000.000</td>\n",
       "      <td>3.069216e+09</td>\n",
       "      <td>25.440250</td>\n",
       "      <td>-80.791070</td>\n",
       "      <td>235792</td>\n",
       "      <td>...</td>\n",
       "      <td>36.1</td>\n",
       "      <td>24.6</td>\n",
       "      <td>0.0</td>\n",
       "      <td>26.40</td>\n",
       "      <td>0.08</td>\n",
       "      <td>0.780</td>\n",
       "      <td>3.000000e+08</td>\n",
       "      <td>1355.907147</td>\n",
       "      <td>24.320596</td>\n",
       "      <td>0.000</td>\n",
       "    </tr>\n",
       "    <tr>\n",
       "      <th>2</th>\n",
       "      <td>North Ten Thousand Islands</td>\n",
       "      <td>GULF</td>\n",
       "      <td>25.724280</td>\n",
       "      <td>-81.377640</td>\n",
       "      <td>0.73000</td>\n",
       "      <td>906000.000</td>\n",
       "      <td>4.921106e+09</td>\n",
       "      <td>25.982520</td>\n",
       "      <td>-81.273680</td>\n",
       "      <td>9268</td>\n",
       "      <td>...</td>\n",
       "      <td>36.0</td>\n",
       "      <td>24.1</td>\n",
       "      <td>0.0</td>\n",
       "      <td>26.30</td>\n",
       "      <td>0.09</td>\n",
       "      <td>0.790</td>\n",
       "      <td>6.000000e+08</td>\n",
       "      <td>1416.239789</td>\n",
       "      <td>23.873671</td>\n",
       "      <td>0.084</td>\n",
       "    </tr>\n",
       "    <tr>\n",
       "      <th>3</th>\n",
       "      <td>Rookery Bay</td>\n",
       "      <td>GULF</td>\n",
       "      <td>25.998750</td>\n",
       "      <td>-81.756010</td>\n",
       "      <td>0.50000</td>\n",
       "      <td>148000.000</td>\n",
       "      <td>3.304589e+08</td>\n",
       "      <td>26.042920</td>\n",
       "      <td>-81.677710</td>\n",
       "      <td>14858</td>\n",
       "      <td>...</td>\n",
       "      <td>36.0</td>\n",
       "      <td>23.9</td>\n",
       "      <td>0.0</td>\n",
       "      <td>26.10</td>\n",
       "      <td>0.08</td>\n",
       "      <td>0.670</td>\n",
       "      <td>4.000000e+07</td>\n",
       "      <td>1432.519416</td>\n",
       "      <td>23.510000</td>\n",
       "      <td>0.086</td>\n",
       "    </tr>\n",
       "    <tr>\n",
       "      <th>4</th>\n",
       "      <td>Charlotte Harbor</td>\n",
       "      <td>GULF</td>\n",
       "      <td>26.754031</td>\n",
       "      <td>-82.103018</td>\n",
       "      <td>1.65938</td>\n",
       "      <td>507261.119</td>\n",
       "      <td>1.169284e+10</td>\n",
       "      <td>27.167615</td>\n",
       "      <td>-81.772154</td>\n",
       "      <td>597644</td>\n",
       "      <td>...</td>\n",
       "      <td>35.9</td>\n",
       "      <td>23.2</td>\n",
       "      <td>1.0</td>\n",
       "      <td>25.65</td>\n",
       "      <td>0.10</td>\n",
       "      <td>0.545</td>\n",
       "      <td>7.000000e+08</td>\n",
       "      <td>1320.275690</td>\n",
       "      <td>22.869199</td>\n",
       "      <td>0.073</td>\n",
       "    </tr>\n",
       "  </tbody>\n",
       "</table>\n",
       "<p>5 rows × 22 columns</p>\n",
       "</div>"
      ],
      "text/plain": [
       "                         name coast  estu_latitude  estu_longintude  estu_dep  \\\n",
       "0                 Florida Bay  GULF      25.039940       -80.731770   0.62000   \n",
       "1  South Ten Thousand Islands  GULF      25.311330       -81.057020   0.63000   \n",
       "2  North Ten Thousand Islands  GULF      25.724280       -81.377640   0.73000   \n",
       "3                 Rookery Bay  GULF      25.998750       -81.756010   0.50000   \n",
       "4            Charlotte Harbor  GULF      26.754031       -82.103018   1.65938   \n",
       "\n",
       "   estu_perim     land_area  land_latitude  land_longitude  population  ...  \\\n",
       "0  614000.000  9.048954e+08      25.187310      -80.727540        3421  ...   \n",
       "1  597000.000  3.069216e+09      25.440250      -80.791070      235792  ...   \n",
       "2  906000.000  4.921106e+09      25.982520      -81.273680        9268  ...   \n",
       "3  148000.000  3.304589e+08      26.042920      -81.677710       14858  ...   \n",
       "4  507261.119  1.169284e+10      27.167615      -81.772154      597644  ...   \n",
       "\n",
       "   ocean_salinity_mean  air_temp_mean  frost_days_per_yr  ocean_sst_mean  \\\n",
       "0                 36.2           24.4                0.0           26.50   \n",
       "1                 36.1           24.6                0.0           26.40   \n",
       "2                 36.0           24.1                0.0           26.30   \n",
       "3                 36.0           23.9                0.0           26.10   \n",
       "4                 35.9           23.2                1.0           25.65   \n",
       "\n",
       "   ocean_diss_inorg_p  ocean_no3     tide_flow  mean_precip  mean_temp  \\\n",
       "0                0.07      0.810  1.000000e+09  1251.831801  24.594719   \n",
       "1                0.08      0.780  3.000000e+08  1355.907147  24.320596   \n",
       "2                0.09      0.790  6.000000e+08  1416.239789  23.873671   \n",
       "3                0.08      0.670  4.000000e+07  1432.519416  23.510000   \n",
       "4                0.10      0.545  7.000000e+08  1320.275690  22.869199   \n",
       "\n",
       "   soc_density  \n",
       "0        0.087  \n",
       "1        0.000  \n",
       "2        0.084  \n",
       "3        0.086  \n",
       "4        0.073  \n",
       "\n",
       "[5 rows x 22 columns]"
      ]
     },
     "execution_count": 2,
     "metadata": {},
     "output_type": "execute_result"
    }
   ],
   "source": [
    "df = pd.read_csv('/Users/danimadan/Desktop/GitHub/assignment-5/data/tidal_wetland_estuaries.csv')\n",
    "df.head()"
   ]
  },
  {
   "cell_type": "code",
   "execution_count": 48,
   "metadata": {},
   "outputs": [
    {
     "name": "stdout",
     "output_type": "stream",
     "text": [
      "t-statistic: -2.7688762365182873\n",
      "p-value: 0.006296544089801441\n"
     ]
    }
   ],
   "source": [
    "eastcoast = df[df['land_longitude']< -80]\n",
    "westcoast = df[df['land_longitude'] > -120]\n",
    "\n",
    "t_stat, p_val = ttest_ind(eastcoast['soc_density'].dropna(), westcoast['soc_density'].dropna(), equal_var=False)\n",
    "\n",
    "print(\"t-statistic:\", t_stat)\n",
    "print(\"p-value:\", p_val)"
   ]
  },
  {
   "attachments": {},
   "cell_type": "markdown",
   "metadata": {},
   "source": [
    "two-tailed test is necessary because you are comparing the difference between means, which could be negative or positive, and thus you must account for both sides of the normal distribution "
   ]
  },
  {
   "attachments": {},
   "cell_type": "markdown",
   "metadata": {},
   "source": [
    "The data meet the requirement for normal data because there are enough obervations to assume the central limit theorem applies and run statistical tests with the asumption that the data is normally distributed "
   ]
  },
  {
   "cell_type": "markdown",
   "metadata": {},
   "source": [
    "## Question 2\n",
    "\n",
    "Using the data from `tidal_wetland_estuaries.csv`, create a linear model to predict mean ocean salinity (column name: `ocean_salinity_mean`) from other environmental factors. (2 pt)\n",
    "\n",
    "Create a model with a high R-squared value (> 0.80). All coefficients should be significant, and none should have VIF values above 5.0. (4 pt)\n",
    "\n",
    "Interpret the summary of the model, focusing on the R-squared value and the regression coefficients. (3 pt)\n",
    "\n",
    "Make diagnostic plots to ensure your data meets the assumptions of linear regression. The necessary functions have been imported for you. (1 pt)."
   ]
  },
  {
   "cell_type": "code",
   "execution_count": 39,
   "metadata": {},
   "outputs": [],
   "source": [
    "from utils import Linear_Reg_Diagnostic # do not change!\n",
    "import statsmodels\n",
    "import statsmodels.api as sm\n",
    "import statsmodels.formula.api as smf\n",
    "from sklearn.linear_model import LinearRegression\n",
    "from sklearn.metrics import r2_score\n",
    "import statsmodels.api as sm \n",
    "from statsmodels.stats.outliers_influence import variance_inflation_factor\n"
   ]
  },
  {
   "cell_type": "markdown",
   "metadata": {},
   "source": []
  },
  {
   "cell_type": "code",
   "execution_count": 40,
   "metadata": {},
   "outputs": [
    {
     "data": {
      "text/html": [
       "<table class=\"simpletable\">\n",
       "<caption>OLS Regression Results</caption>\n",
       "<tr>\n",
       "  <th>Dep. Variable:</th>    <td>ocean_salinity_mean</td> <th>  R-squared:         </th> <td>   1.000</td> \n",
       "</tr>\n",
       "<tr>\n",
       "  <th>Model:</th>                    <td>OLS</td>         <th>  Adj. R-squared:    </th> <td>   1.000</td> \n",
       "</tr>\n",
       "<tr>\n",
       "  <th>Method:</th>              <td>Least Squares</td>    <th>  F-statistic:       </th> <td>1.038e+07</td>\n",
       "</tr>\n",
       "<tr>\n",
       "  <th>Date:</th>              <td>Wed, 10 May 2023</td>   <th>  Prob (F-statistic):</th> <td>1.06e-305</td>\n",
       "</tr>\n",
       "<tr>\n",
       "  <th>Time:</th>                  <td>16:53:27</td>       <th>  Log-Likelihood:    </th> <td> -211.04</td> \n",
       "</tr>\n",
       "<tr>\n",
       "  <th>No. Observations:</th>       <td>   115</td>        <th>  AIC:               </th> <td>   432.1</td> \n",
       "</tr>\n",
       "<tr>\n",
       "  <th>Df Residuals:</th>           <td>   110</td>        <th>  BIC:               </th> <td>   445.8</td> \n",
       "</tr>\n",
       "<tr>\n",
       "  <th>Df Model:</th>               <td>     4</td>        <th>                     </th>     <td> </td>    \n",
       "</tr>\n",
       "<tr>\n",
       "  <th>Covariance Type:</th>       <td>nonrobust</td>      <th>                     </th>     <td> </td>    \n",
       "</tr>\n",
       "</table>\n",
       "<table class=\"simpletable\">\n",
       "<tr>\n",
       "        <td></td>           <th>coef</th>     <th>std err</th>      <th>t</th>      <th>P>|t|</th>  <th>[0.025</th>    <th>0.975]</th>  \n",
       "</tr>\n",
       "<tr>\n",
       "  <th>Intercept</th>     <td>   45.4243</td> <td>    0.934</td> <td>   48.641</td> <td> 0.000</td> <td>   43.574</td> <td>   47.275</td>\n",
       "</tr>\n",
       "<tr>\n",
       "  <th>ocean_no3</th>     <td>    1.3922</td> <td>    0.026</td> <td>   52.715</td> <td> 0.000</td> <td>    1.340</td> <td>    1.445</td>\n",
       "</tr>\n",
       "<tr>\n",
       "  <th>land_area</th>     <td>-2.676e-12</td> <td>  1.8e-12</td> <td>   -1.485</td> <td> 0.140</td> <td>-6.25e-12</td> <td> 8.95e-13</td>\n",
       "</tr>\n",
       "<tr>\n",
       "  <th>land_latitude</th> <td>   -0.3877</td> <td>    0.026</td> <td>  -14.733</td> <td> 0.000</td> <td>   -0.440</td> <td>   -0.336</td>\n",
       "</tr>\n",
       "<tr>\n",
       "  <th>population</th>    <td> 1.151e-07</td> <td> 7.09e-08</td> <td>    1.624</td> <td> 0.107</td> <td>-2.53e-08</td> <td> 2.56e-07</td>\n",
       "</tr>\n",
       "</table>\n",
       "<table class=\"simpletable\">\n",
       "<tr>\n",
       "  <th>Omnibus:</th>       <td> 0.894</td> <th>  Durbin-Watson:     </th> <td>   0.224</td>\n",
       "</tr>\n",
       "<tr>\n",
       "  <th>Prob(Omnibus):</th> <td> 0.639</td> <th>  Jarque-Bera (JB):  </th> <td>   0.848</td>\n",
       "</tr>\n",
       "<tr>\n",
       "  <th>Skew:</th>          <td>-0.205</td> <th>  Prob(JB):          </th> <td>   0.654</td>\n",
       "</tr>\n",
       "<tr>\n",
       "  <th>Kurtosis:</th>      <td> 2.909</td> <th>  Cond. No.          </th> <td>1.83e+12</td>\n",
       "</tr>\n",
       "</table><br/><br/>Notes:<br/>[1] Standard Errors assume that the covariance matrix of the errors is correctly specified.<br/>[2] The condition number is large, 1.83e+12. This might indicate that there are<br/>strong multicollinearity or other numerical problems."
      ],
      "text/plain": [
       "<class 'statsmodels.iolib.summary.Summary'>\n",
       "\"\"\"\n",
       "                             OLS Regression Results                            \n",
       "===============================================================================\n",
       "Dep. Variable:     ocean_salinity_mean   R-squared:                       1.000\n",
       "Model:                             OLS   Adj. R-squared:                  1.000\n",
       "Method:                  Least Squares   F-statistic:                 1.038e+07\n",
       "Date:                 Wed, 10 May 2023   Prob (F-statistic):          1.06e-305\n",
       "Time:                         16:53:27   Log-Likelihood:                -211.04\n",
       "No. Observations:                  115   AIC:                             432.1\n",
       "Df Residuals:                      110   BIC:                             445.8\n",
       "Df Model:                            4                                         \n",
       "Covariance Type:             nonrobust                                         \n",
       "=================================================================================\n",
       "                    coef    std err          t      P>|t|      [0.025      0.975]\n",
       "---------------------------------------------------------------------------------\n",
       "Intercept        45.4243      0.934     48.641      0.000      43.574      47.275\n",
       "ocean_no3         1.3922      0.026     52.715      0.000       1.340       1.445\n",
       "land_area     -2.676e-12    1.8e-12     -1.485      0.140   -6.25e-12    8.95e-13\n",
       "land_latitude    -0.3877      0.026    -14.733      0.000      -0.440      -0.336\n",
       "population     1.151e-07   7.09e-08      1.624      0.107   -2.53e-08    2.56e-07\n",
       "==============================================================================\n",
       "Omnibus:                        0.894   Durbin-Watson:                   0.224\n",
       "Prob(Omnibus):                  0.639   Jarque-Bera (JB):                0.848\n",
       "Skew:                          -0.205   Prob(JB):                        0.654\n",
       "Kurtosis:                       2.909   Cond. No.                     1.83e+12\n",
       "==============================================================================\n",
       "\n",
       "Notes:\n",
       "[1] Standard Errors assume that the covariance matrix of the errors is correctly specified.\n",
       "[2] The condition number is large, 1.83e+12. This might indicate that there are\n",
       "strong multicollinearity or other numerical problems.\n",
       "\"\"\""
      ]
     },
     "execution_count": 40,
     "metadata": {},
     "output_type": "execute_result"
    }
   ],
   "source": [
    "\n",
    "model2 = smf.ols(formula='ocean_salinity_mean~ ocean_no3 + land_area +land_latitude +population' ,data=df).fit()\n",
    "model2.summary()\n",
    "\n",
    "\n"
   ]
  },
  {
   "cell_type": "markdown",
   "metadata": {},
   "source": [
    "## Question 3 \n",
    "\n",
    "Using the `coal-production.csv` data, model the proportion of electricity produced with coal in high income countries over time with an ARIMA model. \n",
    "\n",
    "Process the data to be useable for time series analysis. (2 pt)\n",
    "\n",
    "Display your data. Does it appear to have a trend? If so, describe the trend. (1 pt)\n",
    "\n",
    "Test for stationarity. (1 pt)\n",
    "\n",
    "Make an ARIMA model of the time series, either by manually testing different types, or with an auto-ARIMA. What type of ARIMA model was found to be the best fit? (2 pt)\n",
    "\n",
    "Visualize the fitted values of the ARIMA model, being sure to label each line. (2 pt)\n",
    "\n",
    "Make a forecast for 25 years after the conclusion of the time series and visualize with observed and fitted values. (2 pt)"
   ]
  },
  {
   "cell_type": "code",
   "execution_count": 25,
   "metadata": {},
   "outputs": [],
   "source": [
    "import numpy as np\n",
    "import pandas as pd\n",
    "import matplotlib.pyplot as plt"
   ]
  },
  {
   "cell_type": "code",
   "execution_count": 24,
   "metadata": {},
   "outputs": [
    {
     "data": {
      "text/html": [
       "<div>\n",
       "<style scoped>\n",
       "    .dataframe tbody tr th:only-of-type {\n",
       "        vertical-align: middle;\n",
       "    }\n",
       "\n",
       "    .dataframe tbody tr th {\n",
       "        vertical-align: top;\n",
       "    }\n",
       "\n",
       "    .dataframe thead th {\n",
       "        text-align: right;\n",
       "    }\n",
       "</style>\n",
       "<table border=\"1\" class=\"dataframe\">\n",
       "  <thead>\n",
       "    <tr style=\"text-align: right;\">\n",
       "      <th></th>\n",
       "      <th>year</th>\n",
       "      <th>electricity_prod</th>\n",
       "    </tr>\n",
       "  </thead>\n",
       "  <tbody>\n",
       "    <tr>\n",
       "      <th>0</th>\n",
       "      <td>1960</td>\n",
       "      <td>45.904345</td>\n",
       "    </tr>\n",
       "    <tr>\n",
       "      <th>1</th>\n",
       "      <td>1961</td>\n",
       "      <td>45.730794</td>\n",
       "    </tr>\n",
       "    <tr>\n",
       "      <th>2</th>\n",
       "      <td>1962</td>\n",
       "      <td>46.411172</td>\n",
       "    </tr>\n",
       "    <tr>\n",
       "      <th>3</th>\n",
       "      <td>1963</td>\n",
       "      <td>46.599523</td>\n",
       "    </tr>\n",
       "    <tr>\n",
       "      <th>4</th>\n",
       "      <td>1964</td>\n",
       "      <td>46.102588</td>\n",
       "    </tr>\n",
       "  </tbody>\n",
       "</table>\n",
       "</div>"
      ],
      "text/plain": [
       "   year  electricity_prod\n",
       "0  1960         45.904345\n",
       "1  1961         45.730794\n",
       "2  1962         46.411172\n",
       "3  1963         46.599523\n",
       "4  1964         46.102588"
      ]
     },
     "execution_count": 24,
     "metadata": {},
     "output_type": "execute_result"
    }
   ],
   "source": [
    "df2 = pd.read_csv('/Users/danimadan/Desktop/GitHub/assignment-5/data/coal-production.csv')\n",
    "df2.head()"
   ]
  },
  {
   "cell_type": "code",
   "execution_count": 27,
   "metadata": {},
   "outputs": [],
   "source": [
    "df2['year'] = pd.to_datetime(df2['year'], format='%Y')\n",
    "df2 = df2.set_index('year').sort_index()\n",
    "\n"
   ]
  },
  {
   "cell_type": "code",
   "execution_count": 28,
   "metadata": {},
   "outputs": [
    {
     "data": {
      "text/plain": [
       "Text(0, 0.5, 'electricity')"
      ]
     },
     "execution_count": 28,
     "metadata": {},
     "output_type": "execute_result"
    },
    {
     "data": {
      "image/png": "[encoded data removed]",
      "text/plain": [
       "<Figure size 640x480 with 1 Axes>"
      ]
     },
     "metadata": {},
     "output_type": "display_data"
    }
   ],
   "source": [
    "fig, ax = plt.subplots()\n",
    "ax.plot(df2['electricity_prod']);\n",
    "ax.set_xlabel('year')\n",
    "ax.set_ylabel('electricity')"
   ]
  },
  {
   "attachments": {},
   "cell_type": "markdown",
   "metadata": {},
   "source": [
    "There is a general downward trend with a steep decline in the 1970s, followed by a little bit of an increase in 1980, and it started decreasing again after 1990. "
   ]
  },
  {
   "cell_type": "code",
   "execution_count": 29,
   "metadata": {},
   "outputs": [
    {
     "data": {
      "text/plain": [
       "(1.872154432675824,\n",
       " 0.9984818799941668,\n",
       " 11,\n",
       " 44,\n",
       " {'1%': -3.5885733964124715,\n",
       "  '5%': -2.929885661157025,\n",
       "  '10%': -2.6031845661157025},\n",
       " 118.46409132638485)"
      ]
     },
     "execution_count": 29,
     "metadata": {},
     "output_type": "execute_result"
    }
   ],
   "source": [
    "from statsmodels.tsa.stattools import adfuller\n",
    "\n",
    "adfuller(df2)"
   ]
  },
  {
   "cell_type": "code",
   "execution_count": 30,
   "metadata": {},
   "outputs": [],
   "source": [
    "from statsmodels.tsa.arima.model import ARIMA"
   ]
  },
  {
   "cell_type": "code",
   "execution_count": 31,
   "metadata": {},
   "outputs": [
    {
     "name": "stderr",
     "output_type": "stream",
     "text": [
      "/Users/danimadan/opt/anaconda3/lib/python3.9/site-packages/statsmodels/tsa/statespace/sarimax.py:1899: RuntimeWarning: invalid value encountered in reciprocal\n",
      "  return np.roots(self.polynomial_reduced_ar)**-1\n",
      "/Users/danimadan/opt/anaconda3/lib/python3.9/site-packages/statsmodels/tsa/statespace/sarimax.py:1906: RuntimeWarning: invalid value encountered in reciprocal\n",
      "  return np.roots(self.polynomial_reduced_ma)**-1\n",
      "/Users/danimadan/opt/anaconda3/lib/python3.9/site-packages/statsmodels/tsa/statespace/sarimax.py:1899: RuntimeWarning: invalid value encountered in reciprocal\n",
      "  return np.roots(self.polynomial_reduced_ar)**-1\n",
      "/Users/danimadan/opt/anaconda3/lib/python3.9/site-packages/statsmodels/tsa/statespace/sarimax.py:1906: RuntimeWarning: invalid value encountered in reciprocal\n",
      "  return np.roots(self.polynomial_reduced_ma)**-1\n",
      "/Users/danimadan/opt/anaconda3/lib/python3.9/site-packages/statsmodels/tsa/statespace/sarimax.py:1906: RuntimeWarning: invalid value encountered in reciprocal\n",
      "  return np.roots(self.polynomial_reduced_ma)**-1\n",
      "/Users/danimadan/opt/anaconda3/lib/python3.9/site-packages/statsmodels/tsa/statespace/sarimax.py:1899: RuntimeWarning: invalid value encountered in reciprocal\n",
      "  return np.roots(self.polynomial_reduced_ar)**-1\n",
      "/Users/danimadan/opt/anaconda3/lib/python3.9/site-packages/statsmodels/tsa/statespace/sarimax.py:1899: RuntimeWarning: invalid value encountered in reciprocal\n",
      "  return np.roots(self.polynomial_reduced_ar)**-1\n",
      "/Users/danimadan/opt/anaconda3/lib/python3.9/site-packages/statsmodels/tsa/statespace/sarimax.py:1906: RuntimeWarning: invalid value encountered in reciprocal\n",
      "  return np.roots(self.polynomial_reduced_ma)**-1\n",
      "/Users/danimadan/opt/anaconda3/lib/python3.9/site-packages/statsmodels/tsa/statespace/sarimax.py:1906: RuntimeWarning: invalid value encountered in reciprocal\n",
      "  return np.roots(self.polynomial_reduced_ma)**-1\n",
      "/Users/danimadan/opt/anaconda3/lib/python3.9/site-packages/statsmodels/tsa/statespace/sarimax.py:1899: RuntimeWarning: invalid value encountered in reciprocal\n",
      "  return np.roots(self.polynomial_reduced_ar)**-1\n",
      "/Users/danimadan/opt/anaconda3/lib/python3.9/site-packages/statsmodels/tsa/statespace/sarimax.py:1906: RuntimeWarning: invalid value encountered in reciprocal\n",
      "  return np.roots(self.polynomial_reduced_ma)**-1\n",
      "/Users/danimadan/opt/anaconda3/lib/python3.9/site-packages/statsmodels/tsa/statespace/sarimax.py:1899: RuntimeWarning: invalid value encountered in reciprocal\n",
      "  return np.roots(self.polynomial_reduced_ar)**-1\n"
     ]
    },
    {
     "data": {
      "text/html": [
       "<table class=\"simpletable\">\n",
       "<caption>SARIMAX Results</caption>\n",
       "<tr>\n",
       "  <th>Dep. Variable:</th>           <td>y</td>        <th>  No. Observations:  </th>   <td>56</td>   \n",
       "</tr>\n",
       "<tr>\n",
       "  <th>Model:</th>           <td>SARIMAX(1, 1, 1)</td> <th>  Log Likelihood     </th> <td>-71.684</td>\n",
       "</tr>\n",
       "<tr>\n",
       "  <th>Date:</th>            <td>Wed, 10 May 2023</td> <th>  AIC                </th> <td>149.368</td>\n",
       "</tr>\n",
       "<tr>\n",
       "  <th>Time:</th>                <td>16:21:44</td>     <th>  BIC                </th> <td>155.390</td>\n",
       "</tr>\n",
       "<tr>\n",
       "  <th>Sample:</th>             <td>01-01-1960</td>    <th>  HQIC               </th> <td>151.697</td>\n",
       "</tr>\n",
       "<tr>\n",
       "  <th></th>                   <td>- 01-01-2015</td>   <th>                     </th>    <td> </td>   \n",
       "</tr>\n",
       "<tr>\n",
       "  <th>Covariance Type:</th>        <td>opg</td>       <th>                     </th>    <td> </td>   \n",
       "</tr>\n",
       "</table>\n",
       "<table class=\"simpletable\">\n",
       "<tr>\n",
       "     <td></td>       <th>coef</th>     <th>std err</th>      <th>z</th>      <th>P>|z|</th>  <th>[0.025</th>    <th>0.975]</th>  \n",
       "</tr>\n",
       "<tr>\n",
       "  <th>ar.L1</th>  <td>    0.8478</td> <td>    0.140</td> <td>    6.074</td> <td> 0.000</td> <td>    0.574</td> <td>    1.121</td>\n",
       "</tr>\n",
       "<tr>\n",
       "  <th>ma.L1</th>  <td>   -0.6020</td> <td>    0.230</td> <td>   -2.622</td> <td> 0.009</td> <td>   -1.052</td> <td>   -0.152</td>\n",
       "</tr>\n",
       "<tr>\n",
       "  <th>sigma2</th> <td>    0.7894</td> <td>    0.171</td> <td>    4.604</td> <td> 0.000</td> <td>    0.453</td> <td>    1.125</td>\n",
       "</tr>\n",
       "</table>\n",
       "<table class=\"simpletable\">\n",
       "<tr>\n",
       "  <th>Ljung-Box (L1) (Q):</th>     <td>0.17</td> <th>  Jarque-Bera (JB):  </th> <td>1.33</td>\n",
       "</tr>\n",
       "<tr>\n",
       "  <th>Prob(Q):</th>                <td>0.68</td> <th>  Prob(JB):          </th> <td>0.51</td>\n",
       "</tr>\n",
       "<tr>\n",
       "  <th>Heteroskedasticity (H):</th> <td>0.72</td> <th>  Skew:              </th> <td>0.36</td>\n",
       "</tr>\n",
       "<tr>\n",
       "  <th>Prob(H) (two-sided):</th>    <td>0.49</td> <th>  Kurtosis:          </th> <td>3.24</td>\n",
       "</tr>\n",
       "</table><br/><br/>Warnings:<br/>[1] Covariance matrix calculated using the outer product of gradients (complex-step)."
      ],
      "text/plain": [
       "<class 'statsmodels.iolib.summary.Summary'>\n",
       "\"\"\"\n",
       "                               SARIMAX Results                                \n",
       "==============================================================================\n",
       "Dep. Variable:                      y   No. Observations:                   56\n",
       "Model:               SARIMAX(1, 1, 1)   Log Likelihood                 -71.684\n",
       "Date:                Wed, 10 May 2023   AIC                            149.368\n",
       "Time:                        16:21:44   BIC                            155.390\n",
       "Sample:                    01-01-1960   HQIC                           151.697\n",
       "                         - 01-01-2015                                         \n",
       "Covariance Type:                  opg                                         \n",
       "==============================================================================\n",
       "                 coef    std err          z      P>|z|      [0.025      0.975]\n",
       "------------------------------------------------------------------------------\n",
       "ar.L1          0.8478      0.140      6.074      0.000       0.574       1.121\n",
       "ma.L1         -0.6020      0.230     -2.622      0.009      -1.052      -0.152\n",
       "sigma2         0.7894      0.171      4.604      0.000       0.453       1.125\n",
       "===================================================================================\n",
       "Ljung-Box (L1) (Q):                   0.17   Jarque-Bera (JB):                 1.33\n",
       "Prob(Q):                              0.68   Prob(JB):                         0.51\n",
       "Heteroskedasticity (H):               0.72   Skew:                             0.36\n",
       "Prob(H) (two-sided):                  0.49   Kurtosis:                         3.24\n",
       "===================================================================================\n",
       "\n",
       "Warnings:\n",
       "[1] Covariance matrix calculated using the outer product of gradients (complex-step).\n",
       "\"\"\""
      ]
     },
     "execution_count": 31,
     "metadata": {},
     "output_type": "execute_result"
    }
   ],
   "source": [
    "from pmdarima import auto_arima\n",
    "\n",
    "auto_arima_model = auto_arima(df2['electricity_prod'])\n",
    "auto_arima_model.summary()"
   ]
  },
  {
   "cell_type": "code",
   "execution_count": 32,
   "metadata": {},
   "outputs": [
    {
     "data": {
      "image/png": "[encoded data removed]",
      "text/plain": [
       "<Figure size 640x480 with 1 Axes>"
      ]
     },
     "metadata": {},
     "output_type": "display_data"
    }
   ],
   "source": [
    "in_samp_pred = auto_arima_model.predict_in_sample()\n",
    "in_samp_pred = pd.Series(in_samp_pred, index=df2.index)\n",
    "\n",
    "fig, ax = plt.subplots()\n",
    "ax.plot(df2, label='observed')\n",
    "ax.plot(in_samp_pred[1:], label='predicted')\n",
    "ax.set_xlabel('year')\n",
    "ax.set_ylabel('electricity')\n",
    "ax.legend();"
   ]
  },
  {
   "cell_type": "code",
   "execution_count": 33,
   "metadata": {},
   "outputs": [
    {
     "data": {
      "image/png": "[encoded data removed]",
      "text/plain": [
       "<Figure size 640x480 with 1 Axes>"
      ]
     },
     "metadata": {},
     "output_type": "display_data"
    }
   ],
   "source": [
    "forecast, ci = auto_arima_model.predict(25, return_conf_int=True)\n",
    "future_dates = pd.date_range(df2.index[-1], periods=26, freq='AS-JAN',inclusive='neither')\n",
    "\n",
    "fig, ax = plt.subplots()\n",
    "ax.plot(df2[1:], label='observed')\n",
    "ax.plot(in_samp_pred[1:], label='predicted')\n",
    "ax.plot(future_dates,forecast, label='forecast')\n",
    "ax.fill_between(future_dates, ci[:,0], ci[:,1], color = 'gray', alpha=0.5) \n",
    "ax.set_xlabel('Year')\n",
    "ax.set_ylabel('Electricity')\n",
    "ax.legend();"
   ]
  }
 ],
 "metadata": {
  "kernelspec": {
   "display_name": "Python 3.11.3 ('time-series')",
   "language": "python",
   "name": "python3"
  },
  "language_info": {
   "codemirror_mode": {
    "name": "ipython",
    "version": 3
   },
   "file_extension": ".py",
   "mimetype": "text/x-python",
   "name": "python",
   "nbconvert_exporter": "python",
   "pygments_lexer": "ipython3",
   "version": "3.9.13"
  },
  "orig_nbformat": 4,
  "vscode": {
   "interpreter": {
    "hash": "a303c11e8785c1b2480da0695abe9a60892cf1bcf7ac7186f15d6c1c9175fad9"
   }
  }
 },
 "nbformat": 4,
 "nbformat_minor": 2
}
