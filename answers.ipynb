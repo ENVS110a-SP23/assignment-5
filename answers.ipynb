{
 "cells": [
  {
   "attachments": {},
   "cell_type": "markdown",
   "metadata": {},
   "source": [
    "# Assignment 5: Statistical Analysis (30 pt)\n",
    "\n",
    "Use as many Python and markdown cells per question as you deem necessary. **DO NOT SUBMIT CODE THAT DOES NOT RUN.** You will lose points for code that throws errors. \n",
    "\n",
    "Questions 1 and 2 will use data describing various wetlands, intertidal zones, and ocean conditions in the United States from 1972-2015. This data has been adapted from [publicly available data from NASA](https://daac.ornl.gov/NACP/guides/Tidal_Wetland_Estuaries_Data.html). Note that this file uses the value `-9999` to denote missing data. This file's path is `data/tidal_wetland_estuaries.csv`.\n",
    "\n",
    "Question 3 will be using time series data describing the proportion of electricity produced by coal in high income countries from [the World Bank](https://data.worldbank.org/indicator/EG.ELC.COAL.ZS). The path to the file is `data/coal-production.csv`.\n"
   ]
  },
  {
   "attachments": {},
   "cell_type": "markdown",
   "metadata": {},
   "source": [
    "## Question 1: t-tests (10 pt)\n",
    "\n",
    "Using the data from `tidal_wetland_estuaries.csv`, test the hypothesis that soil organic carbon density (column name: `soc_density`) is **larger** in the East coast than the West coast with a t-test. Interpret the t-test. (5 pt)\n",
    "\n",
    "Defend your choice of which type of t-test you used (3 pt).\n",
    "\n",
    "Do the data meet the requirement for normal data? Why or why not? (2 pt) "
   ]
  },
  {
   "attachments": {},
   "cell_type": "markdown",
   "metadata": {},
   "source": [
    "### **Q1: Mini Data Pre-Process**\n",
    "First I wanted to clean up the data to get rid of missing values, separate the East and West coast into separate data frames that I could compare them, and I also created variables for the columns we would be comparing"
   ]
  },
  {
   "cell_type": "code",
   "execution_count": 34,
   "metadata": {},
   "outputs": [
    {
     "name": "stdout",
     "output_type": "stream",
     "text": [
      "0     0.087\n",
      "1     0.084\n",
      "2     0.051\n",
      "3     0.095\n",
      "4     0.084\n",
      "5     0.085\n",
      "6     0.070\n",
      "7     0.096\n",
      "8     0.076\n",
      "9     0.067\n",
      "10    0.085\n",
      "11    0.063\n",
      "12    0.074\n",
      "13    0.060\n",
      "14    0.073\n",
      "15    0.077\n",
      "16    0.065\n",
      "17    0.073\n",
      "18    0.076\n",
      "19    0.070\n",
      "20    0.086\n",
      "21    0.070\n",
      "22    0.037\n",
      "23    0.052\n",
      "24    0.042\n",
      "25    0.077\n",
      "26    0.094\n",
      "27    0.109\n",
      "28    0.098\n",
      "29    0.089\n",
      "30    0.081\n",
      "31    0.068\n",
      "32    0.099\n",
      "33    0.091\n",
      "34    0.085\n",
      "35    0.075\n",
      "36    0.089\n",
      "37    0.064\n",
      "38    0.052\n",
      "39    0.049\n",
      "40    0.004\n",
      "41    0.100\n",
      "42    0.107\n",
      "43    0.076\n",
      "44    0.095\n",
      "45    0.108\n",
      "46    0.074\n",
      "47    0.120\n",
      "48    0.110\n",
      "49    0.096\n",
      "50    0.044\n",
      "51    0.082\n",
      "Name: soc_density, dtype: float64\n",
      "0     0.014\n",
      "1     0.023\n",
      "2     0.007\n",
      "3     0.004\n",
      "4     0.002\n",
      "5     0.046\n",
      "6     0.017\n",
      "7     0.012\n",
      "8     0.080\n",
      "9     0.034\n",
      "10    0.024\n",
      "11    0.039\n",
      "12    0.041\n",
      "13    0.031\n",
      "14    0.036\n",
      "15    0.048\n",
      "16    0.055\n",
      "17    0.048\n",
      "18    0.052\n",
      "19    0.052\n",
      "20    0.044\n",
      "21    0.044\n",
      "22    0.055\n",
      "23    0.054\n",
      "24    0.050\n",
      "25    0.034\n",
      "26    0.051\n",
      "27    0.053\n",
      "28    0.046\n",
      "Name: soc_density, dtype: float64\n"
     ]
    }
   ],
   "source": [
    "import pandas as pd\n",
    "import numpy as np\n",
    "import matplotlib.pyplot as plt\n",
    "import scipy.stats as stats\n",
    "import seaborn as sns\n",
    "\n",
    "tidal = pd.read_csv('/Users/delre/assignment-5/data/tidal_wetland_estuaries.csv')\n",
    "\n",
    "tidaldata = tidal.replace(-9999, np.NaN)\n",
    "missing = tidaldata.isnull()\n",
    "#print(tidaldata)\n",
    "#print(tidaldata[missing])\n",
    "\n",
    "ec_soil = tidaldata.loc[tidaldata['coast']=='EAST',:].reset_index(drop=True)\n",
    "wc_soil = tidaldata.loc[tidaldata['coast']=='WEST',:].reset_index(drop=True)\n",
    "\n",
    "#print(wc_soil)\n",
    "#print(ec_soil)\n",
    "\n",
    "ec_soc_density = ec_soil['soc_density']\n",
    "wc_soc_density = wc_soil['soc_density']\n",
    "\n",
    "print(ec_soc_density)\n",
    "print(wc_soc_density)"
   ]
  },
  {
   "attachments": {},
   "cell_type": "markdown",
   "metadata": {},
   "source": [
    "### **Q1: Checking for Normal Data**\n",
    "I made some histograms to see if the data was normally distributed before running my tests since T-tests assume normal data"
   ]
  },
  {
   "cell_type": "code",
   "execution_count": 35,
   "metadata": {},
   "outputs": [
    {
     "name": "stdout",
     "output_type": "stream",
     "text": [
      "0.07757692307692311 is the mean value for East Coast Soil Density\n",
      "0.077 is the median value for East Coast soil density\n"
     ]
    },
    {
     "data": {
      "image/png": "[encoded data removed]",
      "text/plain": [
       "<Figure size 640x480 with 1 Axes>"
      ]
     },
     "metadata": {},
     "output_type": "display_data"
    },
    {
     "name": "stdout",
     "output_type": "stream",
     "text": [
      "This histogram shows the east coast soil density data is normally distributed\n",
      "The mean and median are about equal and the data is distributed about equally around the mean\n",
      "\n"
     ]
    }
   ],
   "source": [
    "ec_mean_soc_density = ec_soc_density.mean()\n",
    "print(ec_mean_soc_density, 'is the mean value for East Coast Soil Density')\n",
    "\n",
    "ec_median_soc_density = ec_soc_density.median()\n",
    "print(ec_median_soc_density, 'is the median value for East Coast soil density')\n",
    "\n",
    "ec_std_soc_density = np.std(ec_soc_density)\n",
    "\n",
    "plt.hist(ec_soc_density)\n",
    "plt.title('Soil Organic Carbon Density across the East Coast')\n",
    "plt.xlabel('Soil Organic Carbon Density')\n",
    "plt.ylabel('Location Number')\n",
    "plt.axvline(x=ec_mean_soc_density, color=\"red\")\n",
    "plt.axvline(x=ec_median_soc_density, color=\"black\")\n",
    "plt.axvline(x=ec_mean_soc_density-ec_std_soc_density, color=\"blue\")\n",
    "plt.axvline(x=ec_mean_soc_density+ec_std_soc_density, color=\"blue\")\n",
    "plt.axvline(x=ec_mean_soc_density-2*ec_std_soc_density, color=\"blue\")\n",
    "plt.axvline(x=ec_mean_soc_density+2*ec_std_soc_density, color=\"blue\")\n",
    "plt.show()\n",
    "print('This histogram shows the east coast soil density data is normally distributed')\n",
    "print('The mean and median are about equal and the data is distributed about equally around the mean')\n",
    "print(\"\")"
   ]
  },
  {
   "cell_type": "code",
   "execution_count": 36,
   "metadata": {},
   "outputs": [
    {
     "name": "stdout",
     "output_type": "stream",
     "text": [
      "0.03779310344827588 is the mean value for West Coast Soil Density\n",
      "0.044 is the median value for West Coast soil density\n"
     ]
    },
    {
     "data": {
      "image/png": "[encoded data removed]",
      "text/plain": [
       "<Figure size 640x480 with 1 Axes>"
      ]
     },
     "metadata": {},
     "output_type": "display_data"
    },
    {
     "name": "stdout",
     "output_type": "stream",
     "text": [
      "This histogram shows the West coast soil density data is normally distributed\n"
     ]
    }
   ],
   "source": [
    "wc_mean_soc_density = wc_soc_density.mean()\n",
    "print(wc_mean_soc_density, 'is the mean value for West Coast Soil Density')\n",
    "\n",
    "wc_median_soc_density = wc_soc_density.median()\n",
    "print(wc_median_soc_density, 'is the median value for West Coast soil density')\n",
    "\n",
    "wc_std_soc_density = np.std(wc_soc_density)\n",
    "\n",
    "plt.hist(wc_soc_density)\n",
    "plt.title('Soil Organic Carbon Density across the West Coast')\n",
    "plt.xlabel('Soil Organic Carbon Density')\n",
    "plt.ylabel('Location Number')\n",
    "plt.axvline(x=wc_mean_soc_density, color=\"red\")\n",
    "plt.axvline(x=wc_median_soc_density, color=\"black\")\n",
    "plt.axvline(x=wc_mean_soc_density-wc_std_soc_density, color=\"blue\")\n",
    "plt.axvline(x=wc_mean_soc_density+wc_std_soc_density, color=\"blue\")\n",
    "plt.axvline(x=wc_mean_soc_density-2*wc_std_soc_density, color=\"blue\")\n",
    "plt.axvline(x=wc_mean_soc_density+2*wc_std_soc_density, color=\"blue\")\n",
    "plt.show()\n",
    "print('This histogram shows the West coast soil density data is normally distributed')"
   ]
  },
  {
   "attachments": {},
   "cell_type": "markdown",
   "metadata": {},
   "source": [
    "While the West Coast Soil data does not have a nice bell shape like the East Coast data, it is still centralized around the median, which is close to the mean. About 2/3 of the data is within one standard deviation of the mean and about 95% of data is within two standard deviations of the mean.\n",
    "\n",
    "### **Q1: Comparing datasets**\n",
    "\n",
    "The next step in determining the appropriate T-test was to check whether both datasets had equal amounts of information:"
   ]
  },
  {
   "cell_type": "code",
   "execution_count": 37,
   "metadata": {},
   "outputs": [
    {
     "name": "stdout",
     "output_type": "stream",
     "text": [
      "(52,)\n",
      "(29,)\n",
      "A paired T-Test is impossible because each sample has a different amount of data\n"
     ]
    }
   ],
   "source": [
    "print(ec_soc_density.shape)\n",
    "print(wc_soc_density.shape)\n",
    "\n",
    "print('A paired T-Test is impossible because each sample has a different amount of data')"
   ]
  },
  {
   "attachments": {},
   "cell_type": "markdown",
   "metadata": {},
   "source": [
    "### **Q1: T-Test**\n",
    "The hypothesis that soil organic carbon density is **larger** in the east coast than the west coast compares two different groups of data -- one representing soil collected on the east coast, and one on the other side of the country on the west coast.\n",
    "\n",
    "**A 2-sample T test is the appropriate way to test this hypothesis. A 2-sample T test will compare the mean organic carbon density of soil on the two separate coasts.** \n",
    "\n",
    "A 1-sample T test would not make sense because East and West coast data are different samples; a paired T test would be impossible because the samples are different sizes, and it would not make sense because we are not trying to compare two variables for the same sample of data"
   ]
  },
  {
   "cell_type": "code",
   "execution_count": 38,
   "metadata": {},
   "outputs": [
    {
     "data": {
      "text/plain": [
       "Ttest_indResult(statistic=8.45031778669312, pvalue=5.765284478012742e-13)"
      ]
     },
     "execution_count": 38,
     "metadata": {},
     "output_type": "execute_result"
    }
   ],
   "source": [
    "from scipy.stats import ttest_ind\n",
    "\n",
    "ttest_ind(ec_soc_density,wc_soc_density, alternative='greater',equal_var=True)"
   ]
  },
  {
   "attachments": {},
   "cell_type": "markdown",
   "metadata": {},
   "source": [
    "### **Q1: Interpreting the Results**\n",
    "**The t-test supports the hypothesis that soil organic carbon density is larger in the East coast than the West coast.**\n",
    "\n",
    "The p value is tiny (negative 13 exponent) -- far less than the .05 necessary to reject the null hypothesis (which assumes that soil organic carbon density is not larger in the East coast than the West coast).\n",
    "\n",
    "When the t-value ('statistic') is close to 0, that indicates there is little difference between the means of the two samples being compared. In these cases, the null hypothesis (which assumes that the means of the two samples are equal) cannot be rejected. However in this case, the t-value ('statistic') is relatively high (8), meaning that the two samples have a large difference between their mean relative to their group variances, and by extention, granting greater confidence in the test results."
   ]
  },
  {
   "attachments": {},
   "cell_type": "markdown",
   "metadata": {},
   "source": [
    "## Question 2\n",
    "\n",
    "Using the data from `tidal_wetland_estuaries.csv`, create a linear model to predict mean ocean salinity (column name: `ocean_salinity_mean`) from other environmental factors. (2 pt)\n",
    "\n",
    "Create a model with a high R-squared value (> 0.80). All coefficients should be significant, and none should have VIF values above 5.0. (4 pt)\n",
    "\n",
    "Interpret the summary of the model, focusing on the R-squared value and the regression coefficients. (3 pt)\n",
    "\n",
    "Make diagnostic plots to ensure your data meets the assumptions of linear regression. The necessary functions have been imported for you. (1 pt)."
   ]
  },
  {
   "cell_type": "code",
   "execution_count": 43,
   "metadata": {},
   "outputs": [
    {
     "data": {
      "text/html": [
       "<table class=\"simpletable\">\n",
       "<caption>OLS Regression Results</caption>\n",
       "<tr>\n",
       "  <th>Dep. Variable:</th>    <td>ocean_salinity_mean</td> <th>  R-squared:         </th> <td>   0.834</td>\n",
       "</tr>\n",
       "<tr>\n",
       "  <th>Model:</th>                    <td>OLS</td>         <th>  Adj. R-squared:    </th> <td>   0.829</td>\n",
       "</tr>\n",
       "<tr>\n",
       "  <th>Method:</th>              <td>Least Squares</td>    <th>  F-statistic:       </th> <td>   183.6</td>\n",
       "</tr>\n",
       "<tr>\n",
       "  <th>Date:</th>              <td>Sun, 07 May 2023</td>   <th>  Prob (F-statistic):</th> <td>1.15e-42</td>\n",
       "</tr>\n",
       "<tr>\n",
       "  <th>Time:</th>                  <td>17:40:02</td>       <th>  Log-Likelihood:    </th> <td> -115.16</td>\n",
       "</tr>\n",
       "<tr>\n",
       "  <th>No. Observations:</th>       <td>   114</td>        <th>  AIC:               </th> <td>   238.3</td>\n",
       "</tr>\n",
       "<tr>\n",
       "  <th>Df Residuals:</th>           <td>   110</td>        <th>  BIC:               </th> <td>   249.3</td>\n",
       "</tr>\n",
       "<tr>\n",
       "  <th>Df Model:</th>               <td>     3</td>        <th>                     </th>     <td> </td>   \n",
       "</tr>\n",
       "<tr>\n",
       "  <th>Covariance Type:</th>       <td>nonrobust</td>      <th>                     </th>     <td> </td>   \n",
       "</tr>\n",
       "</table>\n",
       "<table class=\"simpletable\">\n",
       "<tr>\n",
       "         <td></td>            <th>coef</th>     <th>std err</th>      <th>t</th>      <th>P>|t|</th>  <th>[0.025</th>    <th>0.975]</th>  \n",
       "</tr>\n",
       "<tr>\n",
       "  <th>Intercept</th>       <td>   32.2576</td> <td>    0.386</td> <td>   83.553</td> <td> 0.000</td> <td>   31.492</td> <td>   33.023</td>\n",
       "</tr>\n",
       "<tr>\n",
       "  <th>mean_precip</th>     <td>   -0.0009</td> <td>    0.000</td> <td>   -6.351</td> <td> 0.000</td> <td>   -0.001</td> <td>   -0.001</td>\n",
       "</tr>\n",
       "<tr>\n",
       "  <th>estu_longintude</th> <td>    0.0143</td> <td>    0.003</td> <td>    4.348</td> <td> 0.000</td> <td>    0.008</td> <td>    0.021</td>\n",
       "</tr>\n",
       "<tr>\n",
       "  <th>ocean_sst_mean</th>  <td>    0.2086</td> <td>    0.010</td> <td>   20.656</td> <td> 0.000</td> <td>    0.189</td> <td>    0.229</td>\n",
       "</tr>\n",
       "</table>\n",
       "<table class=\"simpletable\">\n",
       "<tr>\n",
       "  <th>Omnibus:</th>       <td>12.247</td> <th>  Durbin-Watson:     </th> <td>   0.227</td>\n",
       "</tr>\n",
       "<tr>\n",
       "  <th>Prob(Omnibus):</th> <td> 0.002</td> <th>  Jarque-Bera (JB):  </th> <td>  12.941</td>\n",
       "</tr>\n",
       "<tr>\n",
       "  <th>Skew:</th>          <td>-0.726</td> <th>  Prob(JB):          </th> <td> 0.00155</td>\n",
       "</tr>\n",
       "<tr>\n",
       "  <th>Kurtosis:</th>      <td> 3.784</td> <th>  Cond. No.          </th> <td>8.58e+03</td>\n",
       "</tr>\n",
       "</table><br/><br/>Notes:<br/>[1] Standard Errors assume that the covariance matrix of the errors is correctly specified.<br/>[2] The condition number is large, 8.58e+03. This might indicate that there are<br/>strong multicollinearity or other numerical problems."
      ],
      "text/plain": [
       "<class 'statsmodels.iolib.summary.Summary'>\n",
       "\"\"\"\n",
       "                             OLS Regression Results                            \n",
       "===============================================================================\n",
       "Dep. Variable:     ocean_salinity_mean   R-squared:                       0.834\n",
       "Model:                             OLS   Adj. R-squared:                  0.829\n",
       "Method:                  Least Squares   F-statistic:                     183.6\n",
       "Date:                 Sun, 07 May 2023   Prob (F-statistic):           1.15e-42\n",
       "Time:                         17:40:02   Log-Likelihood:                -115.16\n",
       "No. Observations:                  114   AIC:                             238.3\n",
       "Df Residuals:                      110   BIC:                             249.3\n",
       "Df Model:                            3                                         \n",
       "Covariance Type:             nonrobust                                         \n",
       "===================================================================================\n",
       "                      coef    std err          t      P>|t|      [0.025      0.975]\n",
       "-----------------------------------------------------------------------------------\n",
       "Intercept          32.2576      0.386     83.553      0.000      31.492      33.023\n",
       "mean_precip        -0.0009      0.000     -6.351      0.000      -0.001      -0.001\n",
       "estu_longintude     0.0143      0.003      4.348      0.000       0.008       0.021\n",
       "ocean_sst_mean      0.2086      0.010     20.656      0.000       0.189       0.229\n",
       "==============================================================================\n",
       "Omnibus:                       12.247   Durbin-Watson:                   0.227\n",
       "Prob(Omnibus):                  0.002   Jarque-Bera (JB):               12.941\n",
       "Skew:                          -0.726   Prob(JB):                      0.00155\n",
       "Kurtosis:                       3.784   Cond. No.                     8.58e+03\n",
       "==============================================================================\n",
       "\n",
       "Notes:\n",
       "[1] Standard Errors assume that the covariance matrix of the errors is correctly specified.\n",
       "[2] The condition number is large, 8.58e+03. This might indicate that there are\n",
       "strong multicollinearity or other numerical problems.\n",
       "\"\"\""
      ]
     },
     "execution_count": 43,
     "metadata": {},
     "output_type": "execute_result"
    }
   ],
   "source": [
    "from utils import Linear_Reg_Diagnostic # do not change!\n",
    "import statsmodels.formula.api as smf\n",
    "\n",
    "tidal = pd.read_csv('/Users/delre/assignment-5/data/tidal_wetland_estuaries.csv')\n",
    "tidaldata = tidal.replace(-9999, np.NaN)\n",
    "\n",
    "ocean_model = smf.ols(formula='ocean_salinity_mean ~ mean_precip + estu_longintude + ocean_sst_mean',data=tidaldata).fit()\n",
    "ocean_model.summary()"
   ]
  },
  {
   "attachments": {},
   "cell_type": "markdown",
   "metadata": {},
   "source": [
    "## Question 3 \n",
    "\n",
    "Using the `coal-production.csv` data, model the proportion of electricity produced with coal in high income countries over time with an ARIMA model. \n",
    "\n",
    "Process the data to be useable for time series analysis. (2 pt)\n",
    "\n",
    "Display your data. Does it appear to have a trend? If so, describe the trend. (1 pt)\n",
    "\n",
    "Test for stationarity. (1 pt)\n",
    "\n",
    "Make an ARIMA model of the time series, either by manually testing different types, or with an auto-ARIMA. What type of ARIMA model was found to be the best fit? (2 pt)\n",
    "\n",
    "Visualize the fitted values of the ARIMA model, being sure to label each line. (2 pt)\n",
    "\n",
    "Make a forecast for 25 years after the conclusion of the time series and visualize with observed and fitted values. (2 pt)"
   ]
  },
  {
   "cell_type": "code",
   "execution_count": null,
   "metadata": {},
   "outputs": [],
   "source": []
  }
 ],
 "metadata": {
  "kernelspec": {
   "display_name": "Python 3.11.3 ('time-series')",
   "language": "python",
   "name": "python3"
  },
  "language_info": {
   "codemirror_mode": {
    "name": "ipython",
    "version": 3
   },
   "file_extension": ".py",
   "mimetype": "text/x-python",
   "name": "python",
   "nbconvert_exporter": "python",
   "pygments_lexer": "ipython3",
   "version": "3.9.13"
  },
  "orig_nbformat": 4,
  "vscode": {
   "interpreter": {
    "hash": "a303c11e8785c1b2480da0695abe9a60892cf1bcf7ac7186f15d6c1c9175fad9"
   }
  }
 },
 "nbformat": 4,
 "nbformat_minor": 2
}
