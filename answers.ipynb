{
 "cells": [
  {
   "cell_type": "markdown",
   "metadata": {},
   "source": [
    "# Assignment 5: Statistical Analysis (30 pt)\n",
    "\n",
    "Use as many Python and markdown cells per question as you deem necessary. **DO NOT SUBMIT CODE THAT DOES NOT RUN.** You will lose points for code that throws errors. \n",
    "\n",
    "Questions 1 and 2 will use data describing various wetlands, intertidal zones, and ocean conditions in the United States from 1972-2015. This data has been adapted from [publicly available data from NASA](https://daac.ornl.gov/NACP/guides/Tidal_Wetland_Estuaries_Data.html). Note that this file uses the value `-9999` to denote missing data. This file's path is `data/tidal_wetland_estuaries.csv`.\n",
    "\n",
    "Question 3 will be using time series data describing the proportion of electricity produced by coal in high income countries from [the World Bank](https://data.worldbank.org/indicator/EG.ELC.COAL.ZS). The path to the file is `data/coal-production.csv`.\n"
   ]
  },
  {
   "cell_type": "markdown",
   "metadata": {},
   "source": [
    "## Question 1: t-tests (10 pt)\n",
    "\n",
    "Using the data from `tidal_wetland_estuaries.csv`, test the hypothesis that soil organic carbon density (column name: `soc_density`) is **larger** in the East coast than the West coast with a t-test. Interpret the t-test. (5 pt)\n",
    "\n",
    "Defend your choice of which type of t-test you used (3 pt).\n",
    "\n",
    "Do the data meet the requirement for normal data? Why or why not? (2 pt) "
   ]
  },
  {
   "cell_type": "code",
   "execution_count": 49,
   "metadata": {},
   "outputs": [],
   "source": [
    "import numpy as np\n",
    "import pandas as pd\n",
    "import matplotlib.pyplot as plt\n",
    "import seaborn as sns\n",
    "import scipy.stats as stats\n",
    "import statsmodels\n",
    "import statsmodels.api as smf\n",
    "import statsmodels.formula.api as smf"
   ]
  },
  {
   "cell_type": "code",
   "execution_count": 50,
   "metadata": {},
   "outputs": [
    {
     "data": {
      "text/html": [
       "<div>\n",
       "<style scoped>\n",
       "    .dataframe tbody tr th:only-of-type {\n",
       "        vertical-align: middle;\n",
       "    }\n",
       "\n",
       "    .dataframe tbody tr th {\n",
       "        vertical-align: top;\n",
       "    }\n",
       "\n",
       "    .dataframe thead th {\n",
       "        text-align: right;\n",
       "    }\n",
       "</style>\n",
       "<table border=\"1\" class=\"dataframe\">\n",
       "  <thead>\n",
       "    <tr style=\"text-align: right;\">\n",
       "      <th></th>\n",
       "      <th>name</th>\n",
       "      <th>coast</th>\n",
       "      <th>estu_latitude</th>\n",
       "      <th>estu_longintude</th>\n",
       "      <th>estu_dep</th>\n",
       "      <th>estu_perim</th>\n",
       "      <th>land_area</th>\n",
       "      <th>land_latitude</th>\n",
       "      <th>land_longitude</th>\n",
       "      <th>population</th>\n",
       "      <th>...</th>\n",
       "      <th>ocean_salinity_mean</th>\n",
       "      <th>air_temp_mean</th>\n",
       "      <th>frost_days_per_yr</th>\n",
       "      <th>ocean_sst_mean</th>\n",
       "      <th>ocean_diss_inorg_p</th>\n",
       "      <th>ocean_no3</th>\n",
       "      <th>tide_flow</th>\n",
       "      <th>mean_precip</th>\n",
       "      <th>mean_temp</th>\n",
       "      <th>soc_density</th>\n",
       "    </tr>\n",
       "  </thead>\n",
       "  <tbody>\n",
       "    <tr>\n",
       "      <th>0</th>\n",
       "      <td>Florida Bay</td>\n",
       "      <td>GULF</td>\n",
       "      <td>25.039940</td>\n",
       "      <td>-80.731770</td>\n",
       "      <td>0.62000</td>\n",
       "      <td>614000.000</td>\n",
       "      <td>9.048954e+08</td>\n",
       "      <td>25.187310</td>\n",
       "      <td>-80.727540</td>\n",
       "      <td>3421.0</td>\n",
       "      <td>...</td>\n",
       "      <td>36.2</td>\n",
       "      <td>24.4</td>\n",
       "      <td>0.0</td>\n",
       "      <td>26.50</td>\n",
       "      <td>0.07</td>\n",
       "      <td>0.810</td>\n",
       "      <td>1.000000e+09</td>\n",
       "      <td>1251.831801</td>\n",
       "      <td>24.594719</td>\n",
       "      <td>0.087</td>\n",
       "    </tr>\n",
       "    <tr>\n",
       "      <th>1</th>\n",
       "      <td>South Ten Thousand Islands</td>\n",
       "      <td>GULF</td>\n",
       "      <td>25.311330</td>\n",
       "      <td>-81.057020</td>\n",
       "      <td>0.63000</td>\n",
       "      <td>597000.000</td>\n",
       "      <td>3.069216e+09</td>\n",
       "      <td>25.440250</td>\n",
       "      <td>-80.791070</td>\n",
       "      <td>235792.0</td>\n",
       "      <td>...</td>\n",
       "      <td>36.1</td>\n",
       "      <td>24.6</td>\n",
       "      <td>0.0</td>\n",
       "      <td>26.40</td>\n",
       "      <td>0.08</td>\n",
       "      <td>0.780</td>\n",
       "      <td>3.000000e+08</td>\n",
       "      <td>1355.907147</td>\n",
       "      <td>24.320596</td>\n",
       "      <td>0.000</td>\n",
       "    </tr>\n",
       "    <tr>\n",
       "      <th>2</th>\n",
       "      <td>North Ten Thousand Islands</td>\n",
       "      <td>GULF</td>\n",
       "      <td>25.724280</td>\n",
       "      <td>-81.377640</td>\n",
       "      <td>0.73000</td>\n",
       "      <td>906000.000</td>\n",
       "      <td>4.921106e+09</td>\n",
       "      <td>25.982520</td>\n",
       "      <td>-81.273680</td>\n",
       "      <td>9268.0</td>\n",
       "      <td>...</td>\n",
       "      <td>36.0</td>\n",
       "      <td>24.1</td>\n",
       "      <td>0.0</td>\n",
       "      <td>26.30</td>\n",
       "      <td>0.09</td>\n",
       "      <td>0.790</td>\n",
       "      <td>6.000000e+08</td>\n",
       "      <td>1416.239789</td>\n",
       "      <td>23.873671</td>\n",
       "      <td>0.084</td>\n",
       "    </tr>\n",
       "    <tr>\n",
       "      <th>3</th>\n",
       "      <td>Rookery Bay</td>\n",
       "      <td>GULF</td>\n",
       "      <td>25.998750</td>\n",
       "      <td>-81.756010</td>\n",
       "      <td>0.50000</td>\n",
       "      <td>148000.000</td>\n",
       "      <td>3.304589e+08</td>\n",
       "      <td>26.042920</td>\n",
       "      <td>-81.677710</td>\n",
       "      <td>14858.0</td>\n",
       "      <td>...</td>\n",
       "      <td>36.0</td>\n",
       "      <td>23.9</td>\n",
       "      <td>0.0</td>\n",
       "      <td>26.10</td>\n",
       "      <td>0.08</td>\n",
       "      <td>0.670</td>\n",
       "      <td>4.000000e+07</td>\n",
       "      <td>1432.519416</td>\n",
       "      <td>23.510000</td>\n",
       "      <td>0.086</td>\n",
       "    </tr>\n",
       "    <tr>\n",
       "      <th>4</th>\n",
       "      <td>Charlotte Harbor</td>\n",
       "      <td>GULF</td>\n",
       "      <td>26.754031</td>\n",
       "      <td>-82.103018</td>\n",
       "      <td>1.65938</td>\n",
       "      <td>507261.119</td>\n",
       "      <td>1.169284e+10</td>\n",
       "      <td>27.167615</td>\n",
       "      <td>-81.772154</td>\n",
       "      <td>597644.0</td>\n",
       "      <td>...</td>\n",
       "      <td>35.9</td>\n",
       "      <td>23.2</td>\n",
       "      <td>1.0</td>\n",
       "      <td>25.65</td>\n",
       "      <td>0.10</td>\n",
       "      <td>0.545</td>\n",
       "      <td>7.000000e+08</td>\n",
       "      <td>1320.275690</td>\n",
       "      <td>22.869199</td>\n",
       "      <td>0.073</td>\n",
       "    </tr>\n",
       "  </tbody>\n",
       "</table>\n",
       "<p>5 rows × 22 columns</p>\n",
       "</div>"
      ],
      "text/plain": [
       "                         name coast  estu_latitude  estu_longintude  estu_dep  \\\n",
       "0                 Florida Bay  GULF      25.039940       -80.731770   0.62000   \n",
       "1  South Ten Thousand Islands  GULF      25.311330       -81.057020   0.63000   \n",
       "2  North Ten Thousand Islands  GULF      25.724280       -81.377640   0.73000   \n",
       "3                 Rookery Bay  GULF      25.998750       -81.756010   0.50000   \n",
       "4            Charlotte Harbor  GULF      26.754031       -82.103018   1.65938   \n",
       "\n",
       "   estu_perim     land_area  land_latitude  land_longitude  population  ...  \\\n",
       "0  614000.000  9.048954e+08      25.187310      -80.727540      3421.0  ...   \n",
       "1  597000.000  3.069216e+09      25.440250      -80.791070    235792.0  ...   \n",
       "2  906000.000  4.921106e+09      25.982520      -81.273680      9268.0  ...   \n",
       "3  148000.000  3.304589e+08      26.042920      -81.677710     14858.0  ...   \n",
       "4  507261.119  1.169284e+10      27.167615      -81.772154    597644.0  ...   \n",
       "\n",
       "   ocean_salinity_mean  air_temp_mean  frost_days_per_yr  ocean_sst_mean  \\\n",
       "0                 36.2           24.4                0.0           26.50   \n",
       "1                 36.1           24.6                0.0           26.40   \n",
       "2                 36.0           24.1                0.0           26.30   \n",
       "3                 36.0           23.9                0.0           26.10   \n",
       "4                 35.9           23.2                1.0           25.65   \n",
       "\n",
       "   ocean_diss_inorg_p  ocean_no3     tide_flow  mean_precip  mean_temp  \\\n",
       "0                0.07      0.810  1.000000e+09  1251.831801  24.594719   \n",
       "1                0.08      0.780  3.000000e+08  1355.907147  24.320596   \n",
       "2                0.09      0.790  6.000000e+08  1416.239789  23.873671   \n",
       "3                0.08      0.670  4.000000e+07  1432.519416  23.510000   \n",
       "4                0.10      0.545  7.000000e+08  1320.275690  22.869199   \n",
       "\n",
       "   soc_density  \n",
       "0        0.087  \n",
       "1        0.000  \n",
       "2        0.084  \n",
       "3        0.086  \n",
       "4        0.073  \n",
       "\n",
       "[5 rows x 22 columns]"
      ]
     },
     "execution_count": 50,
     "metadata": {},
     "output_type": "execute_result"
    }
   ],
   "source": [
    "df = pd.read_csv(\"C:/Users/Dina/Downloads/assignment-5-main/assignment-5-main/data/tidal_wetland_estuaries.csv\")\n",
    "df = df.replace(-9999, np.NaN)\n",
    "df.head()"
   ]
  },
  {
   "cell_type": "code",
   "execution_count": 51,
   "metadata": {},
   "outputs": [
    {
     "data": {
      "text/plain": [
       "Ttest_indResult(statistic=8.45031778669312, pvalue=1.1530568956025485e-12)"
      ]
     },
     "execution_count": 51,
     "metadata": {},
     "output_type": "execute_result"
    }
   ],
   "source": [
    "df_east = df.loc[(df['coast']==\"EAST\"),:]\n",
    "df_west = df.loc[(df['coast']==\"WEST\"),:]\n",
    "stats.ttest_ind(df_east['soc_density'], df_west['soc_density'], alternative='two-sided', nan_policy='omit')"
   ]
  },
  {
   "attachments": {},
   "cell_type": "markdown",
   "metadata": {},
   "source": [
    "I used the 2-sample t-test because we are asked to compare values between two separate groups. A 1-sample t-test wouldn't be appropriate because we're not testing if a mean of one sample is different from a set value. A paired sample t-test wouldn't be appropriate because we aren't comparing the two different measurements for one variable. "
   ]
  },
  {
   "cell_type": "code",
   "execution_count": 52,
   "metadata": {},
   "outputs": [
    {
     "data": {
      "image/png": "[encoded data removed]",
      "text/plain": [
       "<Figure size 432x288 with 1 Axes>"
      ]
     },
     "metadata": {
      "needs_background": "light"
     },
     "output_type": "display_data"
    }
   ],
   "source": [
    "east = df_east['soc_density']\n",
    "mean_east = np.mean(east)\n",
    "std_east = np.std(east)\n",
    "sns.histplot(east)\n",
    "plt.axvline(x=mean_east, color=\"red\")\n",
    "plt.axvline(x=mean_east-std_east, color=\"black\")\n",
    "plt.axvline(x=mean_east+std_east, color=\"black\")\n",
    "plt.axvline(x=mean_east-2*std_east, color=\"blue\")\n",
    "plt.axvline(x=mean_east+2*std_east, color=\"blue\")\n",
    "plt.show()"
   ]
  },
  {
   "attachments": {},
   "cell_type": "markdown",
   "metadata": {},
   "source": [
    "This spread meets the requirement for normal data because it's in a bell shaped curve, about ⅔ of data is found within ±1 standard deviation of the mean, and  about 95% of the data is found within ±2 standard deviations."
   ]
  },
  {
   "cell_type": "code",
   "execution_count": 53,
   "metadata": {},
   "outputs": [
    {
     "data": {
      "image/png": "[encoded data removed]",
      "text/plain": [
       "<Figure size 432x288 with 1 Axes>"
      ]
     },
     "metadata": {
      "needs_background": "light"
     },
     "output_type": "display_data"
    }
   ],
   "source": [
    "west = df_west['soc_density']\n",
    "sns.histplot(west)\n",
    "mean_west = np.mean(west)\n",
    "median_west = np.median(west)\n",
    "std_west = np.std(west)\n",
    "sns.histplot(west)\n",
    "plt.axvline(x=mean_west, color=\"red\")\n",
    "plt.axvline(x = median_west, color = \"yellow\")\n",
    "plt.axvline(x=mean_west-std_west, color=\"black\")\n",
    "plt.axvline(x=mean_west+std_west, color=\"black\")\n",
    "plt.axvline(x=mean_west-2*std_west, color=\"blue\")\n",
    "plt.axvline(x=mean_west+2*std_west, color=\"blue\")\n",
    "plt.show()"
   ]
  },
  {
   "attachments": {},
   "cell_type": "markdown",
   "metadata": {},
   "source": [
    "This spread also meets the requirement for normal data. Though it doesn't have a great bell shape, the data is centered around a central measure of the median. About 2/3 of the data is found within one standard deviation of the mean and about 95% of data is found within two standard deviations of the mean. "
   ]
  },
  {
   "cell_type": "code",
   "execution_count": 54,
   "metadata": {},
   "outputs": [
    {
     "data": {
      "text/html": [
       "<div>\n",
       "<style scoped>\n",
       "    .dataframe tbody tr th:only-of-type {\n",
       "        vertical-align: middle;\n",
       "    }\n",
       "\n",
       "    .dataframe tbody tr th {\n",
       "        vertical-align: top;\n",
       "    }\n",
       "\n",
       "    .dataframe thead th {\n",
       "        text-align: right;\n",
       "    }\n",
       "</style>\n",
       "<table border=\"1\" class=\"dataframe\">\n",
       "  <thead>\n",
       "    <tr style=\"text-align: right;\">\n",
       "      <th></th>\n",
       "      <th>name</th>\n",
       "      <th>coast</th>\n",
       "      <th>estu_latitude</th>\n",
       "      <th>estu_longintude</th>\n",
       "      <th>estu_dep</th>\n",
       "      <th>estu_perim</th>\n",
       "      <th>land_area</th>\n",
       "      <th>land_latitude</th>\n",
       "      <th>land_longitude</th>\n",
       "      <th>population</th>\n",
       "      <th>...</th>\n",
       "      <th>ocean_salinity_mean</th>\n",
       "      <th>air_temp_mean</th>\n",
       "      <th>frost_days_per_yr</th>\n",
       "      <th>ocean_sst_mean</th>\n",
       "      <th>ocean_diss_inorg_p</th>\n",
       "      <th>ocean_no3</th>\n",
       "      <th>tide_flow</th>\n",
       "      <th>mean_precip</th>\n",
       "      <th>mean_temp</th>\n",
       "      <th>soc_density</th>\n",
       "    </tr>\n",
       "  </thead>\n",
       "  <tbody>\n",
       "    <tr>\n",
       "      <th>0</th>\n",
       "      <td>Florida Bay</td>\n",
       "      <td>GULF</td>\n",
       "      <td>25.039940</td>\n",
       "      <td>-80.731770</td>\n",
       "      <td>0.62000</td>\n",
       "      <td>614000.000</td>\n",
       "      <td>9.048954e+08</td>\n",
       "      <td>25.187310</td>\n",
       "      <td>-80.727540</td>\n",
       "      <td>3421.0</td>\n",
       "      <td>...</td>\n",
       "      <td>36.2</td>\n",
       "      <td>24.4</td>\n",
       "      <td>0.0</td>\n",
       "      <td>26.50</td>\n",
       "      <td>0.07</td>\n",
       "      <td>0.810</td>\n",
       "      <td>1.000000e+09</td>\n",
       "      <td>1251.831801</td>\n",
       "      <td>24.594719</td>\n",
       "      <td>0.087</td>\n",
       "    </tr>\n",
       "    <tr>\n",
       "      <th>1</th>\n",
       "      <td>South Ten Thousand Islands</td>\n",
       "      <td>GULF</td>\n",
       "      <td>25.311330</td>\n",
       "      <td>-81.057020</td>\n",
       "      <td>0.63000</td>\n",
       "      <td>597000.000</td>\n",
       "      <td>3.069216e+09</td>\n",
       "      <td>25.440250</td>\n",
       "      <td>-80.791070</td>\n",
       "      <td>235792.0</td>\n",
       "      <td>...</td>\n",
       "      <td>36.1</td>\n",
       "      <td>24.6</td>\n",
       "      <td>0.0</td>\n",
       "      <td>26.40</td>\n",
       "      <td>0.08</td>\n",
       "      <td>0.780</td>\n",
       "      <td>3.000000e+08</td>\n",
       "      <td>1355.907147</td>\n",
       "      <td>24.320596</td>\n",
       "      <td>0.000</td>\n",
       "    </tr>\n",
       "    <tr>\n",
       "      <th>2</th>\n",
       "      <td>North Ten Thousand Islands</td>\n",
       "      <td>GULF</td>\n",
       "      <td>25.724280</td>\n",
       "      <td>-81.377640</td>\n",
       "      <td>0.73000</td>\n",
       "      <td>906000.000</td>\n",
       "      <td>4.921106e+09</td>\n",
       "      <td>25.982520</td>\n",
       "      <td>-81.273680</td>\n",
       "      <td>9268.0</td>\n",
       "      <td>...</td>\n",
       "      <td>36.0</td>\n",
       "      <td>24.1</td>\n",
       "      <td>0.0</td>\n",
       "      <td>26.30</td>\n",
       "      <td>0.09</td>\n",
       "      <td>0.790</td>\n",
       "      <td>6.000000e+08</td>\n",
       "      <td>1416.239789</td>\n",
       "      <td>23.873671</td>\n",
       "      <td>0.084</td>\n",
       "    </tr>\n",
       "    <tr>\n",
       "      <th>3</th>\n",
       "      <td>Rookery Bay</td>\n",
       "      <td>GULF</td>\n",
       "      <td>25.998750</td>\n",
       "      <td>-81.756010</td>\n",
       "      <td>0.50000</td>\n",
       "      <td>148000.000</td>\n",
       "      <td>3.304589e+08</td>\n",
       "      <td>26.042920</td>\n",
       "      <td>-81.677710</td>\n",
       "      <td>14858.0</td>\n",
       "      <td>...</td>\n",
       "      <td>36.0</td>\n",
       "      <td>23.9</td>\n",
       "      <td>0.0</td>\n",
       "      <td>26.10</td>\n",
       "      <td>0.08</td>\n",
       "      <td>0.670</td>\n",
       "      <td>4.000000e+07</td>\n",
       "      <td>1432.519416</td>\n",
       "      <td>23.510000</td>\n",
       "      <td>0.086</td>\n",
       "    </tr>\n",
       "    <tr>\n",
       "      <th>4</th>\n",
       "      <td>Charlotte Harbor</td>\n",
       "      <td>GULF</td>\n",
       "      <td>26.754031</td>\n",
       "      <td>-82.103018</td>\n",
       "      <td>1.65938</td>\n",
       "      <td>507261.119</td>\n",
       "      <td>1.169284e+10</td>\n",
       "      <td>27.167615</td>\n",
       "      <td>-81.772154</td>\n",
       "      <td>597644.0</td>\n",
       "      <td>...</td>\n",
       "      <td>35.9</td>\n",
       "      <td>23.2</td>\n",
       "      <td>1.0</td>\n",
       "      <td>25.65</td>\n",
       "      <td>0.10</td>\n",
       "      <td>0.545</td>\n",
       "      <td>7.000000e+08</td>\n",
       "      <td>1320.275690</td>\n",
       "      <td>22.869199</td>\n",
       "      <td>0.073</td>\n",
       "    </tr>\n",
       "  </tbody>\n",
       "</table>\n",
       "<p>5 rows × 22 columns</p>\n",
       "</div>"
      ],
      "text/plain": [
       "                         name coast  estu_latitude  estu_longintude  estu_dep  \\\n",
       "0                 Florida Bay  GULF      25.039940       -80.731770   0.62000   \n",
       "1  South Ten Thousand Islands  GULF      25.311330       -81.057020   0.63000   \n",
       "2  North Ten Thousand Islands  GULF      25.724280       -81.377640   0.73000   \n",
       "3                 Rookery Bay  GULF      25.998750       -81.756010   0.50000   \n",
       "4            Charlotte Harbor  GULF      26.754031       -82.103018   1.65938   \n",
       "\n",
       "   estu_perim     land_area  land_latitude  land_longitude  population  ...  \\\n",
       "0  614000.000  9.048954e+08      25.187310      -80.727540      3421.0  ...   \n",
       "1  597000.000  3.069216e+09      25.440250      -80.791070    235792.0  ...   \n",
       "2  906000.000  4.921106e+09      25.982520      -81.273680      9268.0  ...   \n",
       "3  148000.000  3.304589e+08      26.042920      -81.677710     14858.0  ...   \n",
       "4  507261.119  1.169284e+10      27.167615      -81.772154    597644.0  ...   \n",
       "\n",
       "   ocean_salinity_mean  air_temp_mean  frost_days_per_yr  ocean_sst_mean  \\\n",
       "0                 36.2           24.4                0.0           26.50   \n",
       "1                 36.1           24.6                0.0           26.40   \n",
       "2                 36.0           24.1                0.0           26.30   \n",
       "3                 36.0           23.9                0.0           26.10   \n",
       "4                 35.9           23.2                1.0           25.65   \n",
       "\n",
       "   ocean_diss_inorg_p  ocean_no3     tide_flow  mean_precip  mean_temp  \\\n",
       "0                0.07      0.810  1.000000e+09  1251.831801  24.594719   \n",
       "1                0.08      0.780  3.000000e+08  1355.907147  24.320596   \n",
       "2                0.09      0.790  6.000000e+08  1416.239789  23.873671   \n",
       "3                0.08      0.670  4.000000e+07  1432.519416  23.510000   \n",
       "4                0.10      0.545  7.000000e+08  1320.275690  22.869199   \n",
       "\n",
       "   soc_density  \n",
       "0        0.087  \n",
       "1        0.000  \n",
       "2        0.084  \n",
       "3        0.086  \n",
       "4        0.073  \n",
       "\n",
       "[5 rows x 22 columns]"
      ]
     },
     "execution_count": 54,
     "metadata": {},
     "output_type": "execute_result"
    }
   ],
   "source": [
    "df.head()"
   ]
  },
  {
   "cell_type": "markdown",
   "metadata": {},
   "source": [
    "## Question 2\n",
    "\n",
    "Using the data from `tidal_wetland_estuaries.csv`, create a linear model to predict mean ocean salinity (column name: `ocean_salinity_mean`) from other environmental factors. (2 pt)\n",
    "\n",
    "Create a model with a high R-squared value (> 0.80). All coefficients should be significant, and none should have VIF values above 5.0. (4 pt)\n",
    "\n",
    "Interpret the summary of the model, focusing on the R-squared value and the regression coefficients. (3 pt)\n",
    "\n",
    "Make diagnostic plots to ensure your data meets the assumptions of linear regression. The necessary functions have been imported for you. (1 pt)."
   ]
  },
  {
   "cell_type": "code",
   "execution_count": 55,
   "metadata": {},
   "outputs": [
    {
     "data": {
      "text/html": [
       "<table class=\"simpletable\">\n",
       "<caption>OLS Regression Results</caption>\n",
       "<tr>\n",
       "  <th>Dep. Variable:</th>    <td>Q('ocean_salinity_mean')</td> <th>  R-squared:         </th> <td>   0.865</td>\n",
       "</tr>\n",
       "<tr>\n",
       "  <th>Model:</th>                       <td>OLS</td>           <th>  Adj. R-squared:    </th> <td>   0.862</td>\n",
       "</tr>\n",
       "<tr>\n",
       "  <th>Method:</th>                 <td>Least Squares</td>      <th>  F-statistic:       </th> <td>   235.4</td>\n",
       "</tr>\n",
       "<tr>\n",
       "  <th>Date:</th>                 <td>Tue, 25 Apr 2023</td>     <th>  Prob (F-statistic):</th> <td>1.04e-47</td>\n",
       "</tr>\n",
       "<tr>\n",
       "  <th>Time:</th>                     <td>13:23:42</td>         <th>  Log-Likelihood:    </th> <td> -103.10</td>\n",
       "</tr>\n",
       "<tr>\n",
       "  <th>No. Observations:</th>          <td>   114</td>          <th>  AIC:               </th> <td>   214.2</td>\n",
       "</tr>\n",
       "<tr>\n",
       "  <th>Df Residuals:</th>              <td>   110</td>          <th>  BIC:               </th> <td>   225.1</td>\n",
       "</tr>\n",
       "<tr>\n",
       "  <th>Df Model:</th>                  <td>     3</td>          <th>                     </th>     <td> </td>   \n",
       "</tr>\n",
       "<tr>\n",
       "  <th>Covariance Type:</th>          <td>nonrobust</td>        <th>                     </th>     <td> </td>   \n",
       "</tr>\n",
       "</table>\n",
       "<table class=\"simpletable\">\n",
       "<tr>\n",
       "           <td></td>             <th>coef</th>     <th>std err</th>      <th>t</th>      <th>P>|t|</th>  <th>[0.025</th>    <th>0.975]</th>  \n",
       "</tr>\n",
       "<tr>\n",
       "  <th>Intercept</th>          <td>   37.0827</td> <td>    0.193</td> <td>  192.160</td> <td> 0.000</td> <td>   36.700</td> <td>   37.465</td>\n",
       "</tr>\n",
       "<tr>\n",
       "  <th>mean_precip</th>        <td>   -0.0005</td> <td>    0.000</td> <td>   -4.192</td> <td> 0.000</td> <td>   -0.001</td> <td>   -0.000</td>\n",
       "</tr>\n",
       "<tr>\n",
       "  <th>tide_flow</th>          <td>-8.385e-11</td> <td> 2.92e-11</td> <td>   -2.867</td> <td> 0.005</td> <td>-1.42e-10</td> <td>-2.59e-11</td>\n",
       "</tr>\n",
       "<tr>\n",
       "  <th>ocean_diss_inorg_p</th> <td>   -7.9732</td> <td>    0.340</td> <td>  -23.444</td> <td> 0.000</td> <td>   -8.647</td> <td>   -7.299</td>\n",
       "</tr>\n",
       "</table>\n",
       "<table class=\"simpletable\">\n",
       "<tr>\n",
       "  <th>Omnibus:</th>       <td> 0.925</td> <th>  Durbin-Watson:     </th> <td>   0.357</td>\n",
       "</tr>\n",
       "<tr>\n",
       "  <th>Prob(Omnibus):</th> <td> 0.630</td> <th>  Jarque-Bera (JB):  </th> <td>   0.592</td>\n",
       "</tr>\n",
       "<tr>\n",
       "  <th>Skew:</th>          <td> 0.163</td> <th>  Prob(JB):          </th> <td>   0.744</td>\n",
       "</tr>\n",
       "<tr>\n",
       "  <th>Kurtosis:</th>      <td> 3.137</td> <th>  Cond. No.          </th> <td>1.37e+10</td>\n",
       "</tr>\n",
       "</table><br/><br/>Notes:<br/>[1] Standard Errors assume that the covariance matrix of the errors is correctly specified.<br/>[2] The condition number is large, 1.37e+10. This might indicate that there are<br/>strong multicollinearity or other numerical problems."
      ],
      "text/plain": [
       "<class 'statsmodels.iolib.summary.Summary'>\n",
       "\"\"\"\n",
       "                               OLS Regression Results                               \n",
       "====================================================================================\n",
       "Dep. Variable:     Q('ocean_salinity_mean')   R-squared:                       0.865\n",
       "Model:                                  OLS   Adj. R-squared:                  0.862\n",
       "Method:                       Least Squares   F-statistic:                     235.4\n",
       "Date:                      Tue, 25 Apr 2023   Prob (F-statistic):           1.04e-47\n",
       "Time:                              13:23:42   Log-Likelihood:                -103.10\n",
       "No. Observations:                       114   AIC:                             214.2\n",
       "Df Residuals:                           110   BIC:                             225.1\n",
       "Df Model:                                 3                                         \n",
       "Covariance Type:                  nonrobust                                         \n",
       "======================================================================================\n",
       "                         coef    std err          t      P>|t|      [0.025      0.975]\n",
       "--------------------------------------------------------------------------------------\n",
       "Intercept             37.0827      0.193    192.160      0.000      36.700      37.465\n",
       "mean_precip           -0.0005      0.000     -4.192      0.000      -0.001      -0.000\n",
       "tide_flow          -8.385e-11   2.92e-11     -2.867      0.005   -1.42e-10   -2.59e-11\n",
       "ocean_diss_inorg_p    -7.9732      0.340    -23.444      0.000      -8.647      -7.299\n",
       "==============================================================================\n",
       "Omnibus:                        0.925   Durbin-Watson:                   0.357\n",
       "Prob(Omnibus):                  0.630   Jarque-Bera (JB):                0.592\n",
       "Skew:                           0.163   Prob(JB):                        0.744\n",
       "Kurtosis:                       3.137   Cond. No.                     1.37e+10\n",
       "==============================================================================\n",
       "\n",
       "Notes:\n",
       "[1] Standard Errors assume that the covariance matrix of the errors is correctly specified.\n",
       "[2] The condition number is large, 1.37e+10. This might indicate that there are\n",
       "strong multicollinearity or other numerical problems.\n",
       "\"\"\""
      ]
     },
     "execution_count": 55,
     "metadata": {},
     "output_type": "execute_result"
    },
    {
     "data": {
      "image/png": "[encoded data removed]",
      "text/plain": [
       "<Figure size 432x288 with 1 Axes>"
      ]
     },
     "metadata": {
      "needs_background": "light"
     },
     "output_type": "display_data"
    }
   ],
   "source": [
    "from utils import Linear_Reg_Diagnostic # do not change!\n",
    "\n",
    "model = smf.ols(formula = \"Q('ocean_salinity_mean') ~  mean_precip + tide_flow + ocean_diss_inorg_p\", data = df).fit()\n",
    "diagnostics = Linear_Reg_Diagnostic(model)\n",
    "diagnostics.residual_plot();\n",
    "model.summary()"
   ]
  },
  {
   "cell_type": "code",
   "execution_count": 56,
   "metadata": {},
   "outputs": [
    {
     "name": "stdout",
     "output_type": "stream",
     "text": [
      "             Features  VIF Factor\n",
      "2           tide_flow        1.03\n",
      "1         mean_precip        1.08\n",
      "3  ocean_diss_inorg_p        1.10\n",
      "0           Intercept       11.46\n"
     ]
    }
   ],
   "source": [
    "diagnostics.vif_table()"
   ]
  },
  {
   "attachments": {},
   "cell_type": "markdown",
   "metadata": {},
   "source": [
    "The adjusted R-squared value is .862. As this value is relatively high, (looking at it in the context of a 0-1 scale), it indicates that the model I generated fits the data well. Since the p values for all the coefficients are below .05, we can reject the null hypothesis. These p values indicate that the best estimates of the coefficients are the estimates generated by this model.  "
   ]
  },
  {
   "cell_type": "code",
   "execution_count": 57,
   "metadata": {},
   "outputs": [
    {
     "data": {
      "image/png": "[encoded data removed]",
      "text/plain": [
       "<Figure size 432x288 with 1 Axes>"
      ]
     },
     "metadata": {
      "needs_background": "light"
     },
     "output_type": "display_data"
    }
   ],
   "source": [
    "diagnostics.qq_plot();"
   ]
  },
  {
   "cell_type": "code",
   "execution_count": 58,
   "metadata": {},
   "outputs": [
    {
     "data": {
      "image/png": "[encoded data removed]",
      "text/plain": [
       "<Figure size 432x288 with 1 Axes>"
      ]
     },
     "metadata": {
      "needs_background": "light"
     },
     "output_type": "display_data"
    }
   ],
   "source": [
    "diagnostics.scale_location_plot();"
   ]
  },
  {
   "cell_type": "code",
   "execution_count": 59,
   "metadata": {},
   "outputs": [
    {
     "data": {
      "image/png": "[encoded data removed]",
      "text/plain": [
       "<Figure size 432x288 with 1 Axes>"
      ]
     },
     "metadata": {
      "needs_background": "light"
     },
     "output_type": "display_data"
    }
   ],
   "source": [
    "diagnostics.leverage_plot();"
   ]
  },
  {
   "attachments": {},
   "cell_type": "markdown",
   "metadata": {},
   "source": [
    "The diagnostic plots above all ensure that the data meets the assumptions of linear regerssion. "
   ]
  },
  {
   "cell_type": "markdown",
   "metadata": {},
   "source": [
    "## Question 3 \n",
    "\n",
    "Using the `coal-production.csv` data, model the proportion of electricity produced with coal in high income countries over time with an ARIMA model. \n",
    "\n",
    "Process the data to be useable for time series analysis. (2 pt)\n",
    "\n",
    "Display your data. Does it appear to have a trend? If so, describe the trend. (1 pt)\n",
    "\n",
    "Test for stationarity. (1 pt)\n",
    "\n",
    "Make an ARIMA model of the time series, either by manually testing different types, or with an auto-ARIMA. What type of ARIMA model was found to be the best fit? (2 pt)\n",
    "\n",
    "Visualize the fitted values of the ARIMA model, being sure to label each line. (2 pt)\n",
    "\n",
    "Make a forecast for 25 years after the conclusion of the time series and visualize with observed and fitted values. (2 pt)"
   ]
  },
  {
   "cell_type": "code",
   "execution_count": 60,
   "metadata": {},
   "outputs": [
    {
     "data": {
      "text/html": [
       "<div>\n",
       "<style scoped>\n",
       "    .dataframe tbody tr th:only-of-type {\n",
       "        vertical-align: middle;\n",
       "    }\n",
       "\n",
       "    .dataframe tbody tr th {\n",
       "        vertical-align: top;\n",
       "    }\n",
       "\n",
       "    .dataframe thead th {\n",
       "        text-align: right;\n",
       "    }\n",
       "</style>\n",
       "<table border=\"1\" class=\"dataframe\">\n",
       "  <thead>\n",
       "    <tr style=\"text-align: right;\">\n",
       "      <th></th>\n",
       "      <th>year</th>\n",
       "      <th>electricity_prod</th>\n",
       "    </tr>\n",
       "  </thead>\n",
       "  <tbody>\n",
       "    <tr>\n",
       "      <th>0</th>\n",
       "      <td>1960</td>\n",
       "      <td>45.904345</td>\n",
       "    </tr>\n",
       "    <tr>\n",
       "      <th>1</th>\n",
       "      <td>1961</td>\n",
       "      <td>45.730794</td>\n",
       "    </tr>\n",
       "    <tr>\n",
       "      <th>2</th>\n",
       "      <td>1962</td>\n",
       "      <td>46.411172</td>\n",
       "    </tr>\n",
       "    <tr>\n",
       "      <th>3</th>\n",
       "      <td>1963</td>\n",
       "      <td>46.599523</td>\n",
       "    </tr>\n",
       "    <tr>\n",
       "      <th>4</th>\n",
       "      <td>1964</td>\n",
       "      <td>46.102588</td>\n",
       "    </tr>\n",
       "  </tbody>\n",
       "</table>\n",
       "</div>"
      ],
      "text/plain": [
       "   year  electricity_prod\n",
       "0  1960         45.904345\n",
       "1  1961         45.730794\n",
       "2  1962         46.411172\n",
       "3  1963         46.599523\n",
       "4  1964         46.102588"
      ]
     },
     "execution_count": 60,
     "metadata": {},
     "output_type": "execute_result"
    }
   ],
   "source": [
    "df2 = pd.read_csv(\"C:/Users/Dina/Downloads/assignment-5-main/assignment-5-main/data/coal-production.csv\")\n",
    "\n",
    "df2.head()"
   ]
  },
  {
   "cell_type": "code",
   "execution_count": 61,
   "metadata": {},
   "outputs": [
    {
     "data": {
      "text/html": [
       "<div>\n",
       "<style scoped>\n",
       "    .dataframe tbody tr th:only-of-type {\n",
       "        vertical-align: middle;\n",
       "    }\n",
       "\n",
       "    .dataframe tbody tr th {\n",
       "        vertical-align: top;\n",
       "    }\n",
       "\n",
       "    .dataframe thead th {\n",
       "        text-align: right;\n",
       "    }\n",
       "</style>\n",
       "<table border=\"1\" class=\"dataframe\">\n",
       "  <thead>\n",
       "    <tr style=\"text-align: right;\">\n",
       "      <th></th>\n",
       "      <th>electricity_prod</th>\n",
       "    </tr>\n",
       "    <tr>\n",
       "      <th>year</th>\n",
       "      <th></th>\n",
       "    </tr>\n",
       "  </thead>\n",
       "  <tbody>\n",
       "    <tr>\n",
       "      <th>1960-01-01</th>\n",
       "      <td>45.904345</td>\n",
       "    </tr>\n",
       "    <tr>\n",
       "      <th>1961-01-01</th>\n",
       "      <td>45.730794</td>\n",
       "    </tr>\n",
       "    <tr>\n",
       "      <th>1962-01-01</th>\n",
       "      <td>46.411172</td>\n",
       "    </tr>\n",
       "    <tr>\n",
       "      <th>1963-01-01</th>\n",
       "      <td>46.599523</td>\n",
       "    </tr>\n",
       "    <tr>\n",
       "      <th>1964-01-01</th>\n",
       "      <td>46.102588</td>\n",
       "    </tr>\n",
       "  </tbody>\n",
       "</table>\n",
       "</div>"
      ],
      "text/plain": [
       "            electricity_prod\n",
       "year                        \n",
       "1960-01-01         45.904345\n",
       "1961-01-01         45.730794\n",
       "1962-01-01         46.411172\n",
       "1963-01-01         46.599523\n",
       "1964-01-01         46.102588"
      ]
     },
     "execution_count": 61,
     "metadata": {},
     "output_type": "execute_result"
    }
   ],
   "source": [
    "df2['year'] = pd.to_datetime(df2['year'], format='%Y')\n",
    "df_coal = df2.set_index('year').sort_index()\n",
    "df_coal.head()\n",
    "\n",
    "#for ARIMA need to do the installation from class"
   ]
  },
  {
   "cell_type": "code",
   "execution_count": 72,
   "metadata": {},
   "outputs": [
    {
     "data": {
      "text/plain": [
       "Text(0, 0.5, 'Percent Electricity Produced')"
      ]
     },
     "execution_count": 72,
     "metadata": {},
     "output_type": "execute_result"
    },
    {
     "data": {
      "image/png": "[encoded data removed]",
      "text/plain": [
       "<Figure size 432x288 with 1 Axes>"
      ]
     },
     "metadata": {
      "needs_background": "light"
     },
     "output_type": "display_data"
    }
   ],
   "source": [
    "fig, ax = plt.subplots()\n",
    "ax.plot(df_coal['electricity_prod']);\n",
    "ax.set_xlabel('Year')\n",
    "ax.set_ylabel('Percent Electricity Produced') #what are the units supposed to be here\n"
   ]
  },
  {
   "attachments": {},
   "cell_type": "markdown",
   "metadata": {},
   "source": [
    "The data seems to have an overall downward trend, though it's not linear. "
   ]
  },
  {
   "cell_type": "code",
   "execution_count": 73,
   "metadata": {},
   "outputs": [
    {
     "name": "stdout",
     "output_type": "stream",
     "text": [
      "ADF Statistic: 1.8721544326758233\n",
      "p-value: 0.9984818799941668\n"
     ]
    }
   ],
   "source": [
    "from statsmodels.tsa.stattools import adfuller\n",
    "\n",
    "adfuller(df_coal)\n",
    "\n",
    "def adf_print(time_series):\n",
    "    adf_output = adfuller(time_series)\n",
    "    stat = adf_output[0]\n",
    "    pval = adf_output[1]\n",
    "    print('ADF Statistic:', stat)\n",
    "    print('p-value:', pval)\n",
    "    return None\n",
    "\n",
    "adf_print(df_coal)"
   ]
  },
  {
   "attachments": {},
   "cell_type": "markdown",
   "metadata": {},
   "source": [
    "Since the p value is large, that means we must accept the null hypothesis that the time series isn't stationary. "
   ]
  },
  {
   "cell_type": "code",
   "execution_count": 86,
   "metadata": {},
   "outputs": [
    {
     "name": "stderr",
     "output_type": "stream",
     "text": [
      "c:\\Users\\Dina\\anaconda3\\lib\\site-packages\\statsmodels\\tsa\\base\\tsa_model.py:471: ValueWarning: No frequency information was provided, so inferred frequency AS-JAN will be used.\n",
      "  self._init_dates(dates, freq)\n",
      "c:\\Users\\Dina\\anaconda3\\lib\\site-packages\\statsmodels\\tsa\\base\\tsa_model.py:471: ValueWarning: No frequency information was provided, so inferred frequency AS-JAN will be used.\n",
      "  self._init_dates(dates, freq)\n",
      "c:\\Users\\Dina\\anaconda3\\lib\\site-packages\\statsmodels\\tsa\\base\\tsa_model.py:471: ValueWarning: No frequency information was provided, so inferred frequency AS-JAN will be used.\n",
      "  self._init_dates(dates, freq)\n",
      "c:\\Users\\Dina\\anaconda3\\lib\\site-packages\\statsmodels\\tsa\\statespace\\sarimax.py:966: UserWarning: Non-stationary starting autoregressive parameters found. Using zeros as starting parameters.\n",
      "  warn('Non-stationary starting autoregressive parameters'\n"
     ]
    }
   ],
   "source": [
    "from statsmodels.tsa.arima.model import ARIMA\n",
    "\n",
    "model1 = ARIMA(df_coal, order=(1,1,1)).fit()"
   ]
  },
  {
   "cell_type": "code",
   "execution_count": 87,
   "metadata": {},
   "outputs": [
    {
     "name": "stdout",
     "output_type": "stream",
     "text": [
      "38.404823938245556\n",
      "149.36831991172343\n",
      "155.39031946742085\n"
     ]
    }
   ],
   "source": [
    "print(model1.mse)\n",
    "print(model1.aic)\n",
    "print(model1.bic)"
   ]
  },
  {
   "attachments": {},
   "cell_type": "markdown",
   "metadata": {},
   "source": [
    "The model below was found to be the best because when the tests above were run compared to other models, they had consistently lower values. "
   ]
  },
  {
   "cell_type": "code",
   "execution_count": null,
   "metadata": {},
   "outputs": [],
   "source": [
    "#how do I visualize the fitted values of the arima model"
   ]
  },
  {
   "cell_type": "code",
   "execution_count": null,
   "metadata": {},
   "outputs": [],
   "source": [
    "#make sure I know how to do the forecast "
   ]
  }
 ],
 "metadata": {
  "kernelspec": {
   "display_name": "Python 3.11.3 ('time-series')",
   "language": "python",
   "name": "python3"
  },
  "language_info": {
   "codemirror_mode": {
    "name": "ipython",
    "version": 3
   },
   "file_extension": ".py",
   "mimetype": "text/x-python",
   "name": "python",
   "nbconvert_exporter": "python",
   "pygments_lexer": "ipython3",
   "version": "3.9.12"
  },
  "orig_nbformat": 4,
  "vscode": {
   "interpreter": {
    "hash": "a303c11e8785c1b2480da0695abe9a60892cf1bcf7ac7186f15d6c1c9175fad9"
   }
  }
 },
 "nbformat": 4,
 "nbformat_minor": 2
}
