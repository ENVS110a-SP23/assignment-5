{
 "cells": [
  {
   "attachments": {},
   "cell_type": "markdown",
   "metadata": {},
   "source": [
    "# Assignment 5: Statistical Analysis (30 pt)\n",
    "\n",
    "Use as many Python and markdown cells per question as you deem necessary. **DO NOT SUBMIT CODE THAT DOES NOT RUN.** You will lose points for code that throws errors. \n",
    "\n",
    "Questions 1 and 2 will use data describing various wetlands, intertidal zones, and ocean conditions in the United States from 1972-2015. This data has been adapted from [publicly available data from NASA](https://daac.ornl.gov/NACP/guides/Tidal_Wetland_Estuaries_Data.html). Note that this file uses the value `-9999` to denote missing data. This file's path is `data/tidal_wetland_estuaries.csv`.\n",
    "\n",
    "Question 3 will be using time series data describing the proportion of electricity produced by coal in high income countries from [the World Bank](https://data.worldbank.org/indicator/EG.ELC.COAL.ZS). The path to the file is `data/coal-production.csv`.\n"
   ]
  },
  {
   "attachments": {},
   "cell_type": "markdown",
   "metadata": {},
   "source": [
    "## Question 1: t-tests (10 pt)\n",
    "\n",
    "Using the data from `tidal_wetland_estuaries.csv`, test the hypothesis that soil organic carbon density (column name: `soc_density`) is **larger** in the East coast than the West coast with a t-test. Interpret the t-test. (5 pt)\n",
    "\n",
    "Defend your choice of which type of t-test you used (3 pt).\n",
    "\n",
    "Do the data meet the requirement for normal data? Why or why not? (2 pt) "
   ]
  },
  {
   "cell_type": "code",
   "execution_count": 4,
   "metadata": {},
   "outputs": [
    {
     "name": "stdout",
     "output_type": "stream",
     "text": [
      "t-statistic: -2.6397807409107816\n",
      "p-value: 0.009132108089101816\n",
      "The difference in soil organic carbon density between the East coast and West coast is statistically significant.\n"
     ]
    }
   ],
   "source": [
    "import pandas as pd\n",
    "from scipy.stats import ttest_ind\n",
    "import numpy as np\n",
    "\n",
    "\n",
    "data = pd.read_csv('/Users/gabit/OneDrive/Desktop/Spring 2023/Data Analysis/assignment-5/data/tidal_wetland_estuaries.csv', na_values=-9999)\n",
    "\n",
    "\n",
    "east_coast = data[data['land_longitude'] < -80]\n",
    "west_coast = data[data['land_longitude'] > -120]\n",
    "\n",
    "t_stat, p_val = ttest_ind(east_coast['soc_density'].dropna(), west_coast['soc_density'].dropna(), equal_var=False)\n",
    "\n",
    "print(\"t-statistic:\", t_stat)\n",
    "print(\"p-value:\", p_val)\n",
    "\n",
    "if p_val < 0.05:\n",
    "    print(\"The difference in soil organic carbon density between the East coast and West coast is statistically significant.\")\n",
    "else:\n",
    "    print(\"There is not enough evidence to conclude that there is a difference in soil organic carbon density between the East coast and West coast.\")"
   ]
  },
  {
   "attachments": {},
   "cell_type": "markdown",
   "metadata": {},
   "source": [
    "I decided to used an indipented samples t-tes since I was looking at two Indipendent groups, which are the east and west coast. This is the best type of test to use when looking at the means of two groups.\n",
    "\n",
    "This data includes most of the requirements for running a t test. However it does not inlcude the standard deviation which is also usually needed. \n"
   ]
  },
  {
   "attachments": {},
   "cell_type": "markdown",
   "metadata": {},
   "source": [
    "## Question 2\n",
    "\n",
    "Using the data from `tidal_wetland_estuaries.csv`, create a linear model to predict mean ocean salinity (column name: `ocean_salinity_mean`) from other environmental factors. (2 pt)\n",
    "\n",
    "Create a model with a high R-squared value (> 0.80). All coefficients should be significant, and none should have VIF values above 5.0. (4 pt)\n",
    "\n",
    "Interpret the summary of the model, focusing on the R-squared value and the regression coefficients. (3 pt)\n",
    "\n",
    "Make diagnostic plots to ensure your data meets the assumptions of linear regression. The necessary functions have been imported for you. (1 pt)."
   ]
  },
  {
   "cell_type": "code",
   "execution_count": 3,
   "metadata": {},
   "outputs": [
    {
     "data": {
      "text/html": [
       "<div>\n",
       "<style scoped>\n",
       "    .dataframe tbody tr th:only-of-type {\n",
       "        vertical-align: middle;\n",
       "    }\n",
       "\n",
       "    .dataframe tbody tr th {\n",
       "        vertical-align: top;\n",
       "    }\n",
       "\n",
       "    .dataframe thead th {\n",
       "        text-align: right;\n",
       "    }\n",
       "</style>\n",
       "<table border=\"1\" class=\"dataframe\">\n",
       "  <thead>\n",
       "    <tr style=\"text-align: right;\">\n",
       "      <th></th>\n",
       "      <th>name</th>\n",
       "      <th>coast</th>\n",
       "      <th>estu_latitude</th>\n",
       "      <th>estu_longintude</th>\n",
       "      <th>estu_dep</th>\n",
       "      <th>estu_perim</th>\n",
       "      <th>land_area</th>\n",
       "      <th>land_latitude</th>\n",
       "      <th>land_longitude</th>\n",
       "      <th>population</th>\n",
       "      <th>...</th>\n",
       "      <th>ocean_salinity_mean</th>\n",
       "      <th>air_temp_mean</th>\n",
       "      <th>frost_days_per_yr</th>\n",
       "      <th>ocean_sst_mean</th>\n",
       "      <th>ocean_diss_inorg_p</th>\n",
       "      <th>ocean_no3</th>\n",
       "      <th>tide_flow</th>\n",
       "      <th>mean_precip</th>\n",
       "      <th>mean_temp</th>\n",
       "      <th>soc_density</th>\n",
       "    </tr>\n",
       "  </thead>\n",
       "  <tbody>\n",
       "    <tr>\n",
       "      <th>0</th>\n",
       "      <td>Florida Bay</td>\n",
       "      <td>GULF</td>\n",
       "      <td>25.039940</td>\n",
       "      <td>-80.731770</td>\n",
       "      <td>0.62000</td>\n",
       "      <td>614000.000</td>\n",
       "      <td>9.048954e+08</td>\n",
       "      <td>25.187310</td>\n",
       "      <td>-80.727540</td>\n",
       "      <td>3421.0</td>\n",
       "      <td>...</td>\n",
       "      <td>36.2</td>\n",
       "      <td>24.4</td>\n",
       "      <td>0.0</td>\n",
       "      <td>26.50</td>\n",
       "      <td>0.07</td>\n",
       "      <td>0.810</td>\n",
       "      <td>1.000000e+09</td>\n",
       "      <td>1251.831801</td>\n",
       "      <td>24.594719</td>\n",
       "      <td>0.087</td>\n",
       "    </tr>\n",
       "    <tr>\n",
       "      <th>1</th>\n",
       "      <td>South Ten Thousand Islands</td>\n",
       "      <td>GULF</td>\n",
       "      <td>25.311330</td>\n",
       "      <td>-81.057020</td>\n",
       "      <td>0.63000</td>\n",
       "      <td>597000.000</td>\n",
       "      <td>3.069216e+09</td>\n",
       "      <td>25.440250</td>\n",
       "      <td>-80.791070</td>\n",
       "      <td>235792.0</td>\n",
       "      <td>...</td>\n",
       "      <td>36.1</td>\n",
       "      <td>24.6</td>\n",
       "      <td>0.0</td>\n",
       "      <td>26.40</td>\n",
       "      <td>0.08</td>\n",
       "      <td>0.780</td>\n",
       "      <td>3.000000e+08</td>\n",
       "      <td>1355.907147</td>\n",
       "      <td>24.320596</td>\n",
       "      <td>0.000</td>\n",
       "    </tr>\n",
       "    <tr>\n",
       "      <th>2</th>\n",
       "      <td>North Ten Thousand Islands</td>\n",
       "      <td>GULF</td>\n",
       "      <td>25.724280</td>\n",
       "      <td>-81.377640</td>\n",
       "      <td>0.73000</td>\n",
       "      <td>906000.000</td>\n",
       "      <td>4.921106e+09</td>\n",
       "      <td>25.982520</td>\n",
       "      <td>-81.273680</td>\n",
       "      <td>9268.0</td>\n",
       "      <td>...</td>\n",
       "      <td>36.0</td>\n",
       "      <td>24.1</td>\n",
       "      <td>0.0</td>\n",
       "      <td>26.30</td>\n",
       "      <td>0.09</td>\n",
       "      <td>0.790</td>\n",
       "      <td>6.000000e+08</td>\n",
       "      <td>1416.239789</td>\n",
       "      <td>23.873671</td>\n",
       "      <td>0.084</td>\n",
       "    </tr>\n",
       "    <tr>\n",
       "      <th>3</th>\n",
       "      <td>Rookery Bay</td>\n",
       "      <td>GULF</td>\n",
       "      <td>25.998750</td>\n",
       "      <td>-81.756010</td>\n",
       "      <td>0.50000</td>\n",
       "      <td>148000.000</td>\n",
       "      <td>3.304589e+08</td>\n",
       "      <td>26.042920</td>\n",
       "      <td>-81.677710</td>\n",
       "      <td>14858.0</td>\n",
       "      <td>...</td>\n",
       "      <td>36.0</td>\n",
       "      <td>23.9</td>\n",
       "      <td>0.0</td>\n",
       "      <td>26.10</td>\n",
       "      <td>0.08</td>\n",
       "      <td>0.670</td>\n",
       "      <td>4.000000e+07</td>\n",
       "      <td>1432.519416</td>\n",
       "      <td>23.510000</td>\n",
       "      <td>0.086</td>\n",
       "    </tr>\n",
       "    <tr>\n",
       "      <th>4</th>\n",
       "      <td>Charlotte Harbor</td>\n",
       "      <td>GULF</td>\n",
       "      <td>26.754031</td>\n",
       "      <td>-82.103018</td>\n",
       "      <td>1.65938</td>\n",
       "      <td>507261.119</td>\n",
       "      <td>1.169284e+10</td>\n",
       "      <td>27.167615</td>\n",
       "      <td>-81.772154</td>\n",
       "      <td>597644.0</td>\n",
       "      <td>...</td>\n",
       "      <td>35.9</td>\n",
       "      <td>23.2</td>\n",
       "      <td>1.0</td>\n",
       "      <td>25.65</td>\n",
       "      <td>0.10</td>\n",
       "      <td>0.545</td>\n",
       "      <td>7.000000e+08</td>\n",
       "      <td>1320.275690</td>\n",
       "      <td>22.869199</td>\n",
       "      <td>0.073</td>\n",
       "    </tr>\n",
       "  </tbody>\n",
       "</table>\n",
       "<p>5 rows × 22 columns</p>\n",
       "</div>"
      ],
      "text/plain": [
       "                         name coast  estu_latitude  estu_longintude  estu_dep  \\\n",
       "0                 Florida Bay  GULF      25.039940       -80.731770   0.62000   \n",
       "1  South Ten Thousand Islands  GULF      25.311330       -81.057020   0.63000   \n",
       "2  North Ten Thousand Islands  GULF      25.724280       -81.377640   0.73000   \n",
       "3                 Rookery Bay  GULF      25.998750       -81.756010   0.50000   \n",
       "4            Charlotte Harbor  GULF      26.754031       -82.103018   1.65938   \n",
       "\n",
       "   estu_perim     land_area  land_latitude  land_longitude  population  ...  \\\n",
       "0  614000.000  9.048954e+08      25.187310      -80.727540      3421.0  ...   \n",
       "1  597000.000  3.069216e+09      25.440250      -80.791070    235792.0  ...   \n",
       "2  906000.000  4.921106e+09      25.982520      -81.273680      9268.0  ...   \n",
       "3  148000.000  3.304589e+08      26.042920      -81.677710     14858.0  ...   \n",
       "4  507261.119  1.169284e+10      27.167615      -81.772154    597644.0  ...   \n",
       "\n",
       "   ocean_salinity_mean  air_temp_mean  frost_days_per_yr  ocean_sst_mean  \\\n",
       "0                 36.2           24.4                0.0           26.50   \n",
       "1                 36.1           24.6                0.0           26.40   \n",
       "2                 36.0           24.1                0.0           26.30   \n",
       "3                 36.0           23.9                0.0           26.10   \n",
       "4                 35.9           23.2                1.0           25.65   \n",
       "\n",
       "   ocean_diss_inorg_p  ocean_no3     tide_flow  mean_precip  mean_temp  \\\n",
       "0                0.07      0.810  1.000000e+09  1251.831801  24.594719   \n",
       "1                0.08      0.780  3.000000e+08  1355.907147  24.320596   \n",
       "2                0.09      0.790  6.000000e+08  1416.239789  23.873671   \n",
       "3                0.08      0.670  4.000000e+07  1432.519416  23.510000   \n",
       "4                0.10      0.545  7.000000e+08  1320.275690  22.869199   \n",
       "\n",
       "   soc_density  \n",
       "0        0.087  \n",
       "1        0.000  \n",
       "2        0.084  \n",
       "3        0.086  \n",
       "4        0.073  \n",
       "\n",
       "[5 rows x 22 columns]"
      ]
     },
     "execution_count": 3,
     "metadata": {},
     "output_type": "execute_result"
    }
   ],
   "source": [
    "from utils import Linear_Reg_Diagnostic # do not change!\n",
    "import pandas as pd\n",
    "\n",
    "\n",
    "df = pd.read_csv('/Users/gabit/OneDrive/Desktop/Spring 2023/Data Analysis/assignment-5/data/tidal_wetland_estuaries.csv', na_values=-9999)\n",
    "df.head()"
   ]
  },
  {
   "cell_type": "code",
   "execution_count": 4,
   "metadata": {},
   "outputs": [
    {
     "name": "stderr",
     "output_type": "stream",
     "text": [
      "C:\\Users\\gabit\\AppData\\Local\\Temp\\ipykernel_20604\\1539030882.py:5: SettingWithCopyWarning: \n",
      "A value is trying to be set on a copy of a slice from a DataFrame\n",
      "\n",
      "See the caveats in the documentation: https://pandas.pydata.org/pandas-docs/stable/user_guide/indexing.html#returning-a-view-versus-a-copy\n",
      "  X.dropna(inplace=True)\n"
     ]
    },
    {
     "name": "stdout",
     "output_type": "stream",
     "text": [
      "R-squared value: 0.8978589252210987\n",
      "                             OLS Regression Results                            \n",
      "===============================================================================\n",
      "Dep. Variable:     ocean_salinity_mean   R-squared:                       0.898\n",
      "Model:                             OLS   Adj. R-squared:                  0.881\n",
      "Method:                  Least Squares   F-statistic:                     53.29\n",
      "Date:                 Wed, 10 May 2023   Prob (F-statistic):           9.17e-41\n",
      "Time:                         16:30:27   Log-Likelihood:                -87.311\n",
      "No. Observations:                  114   AIC:                             208.6\n",
      "Df Residuals:                       97   BIC:                             255.1\n",
      "Df Model:                           16                                         \n",
      "Covariance Type:             nonrobust                                         \n",
      "======================================================================================\n",
      "                         coef    std err          t      P>|t|      [0.025      0.975]\n",
      "--------------------------------------------------------------------------------------\n",
      "const                 40.9682      3.756     10.908      0.000      33.514      48.422\n",
      "estu_dep              -0.0013      0.005     -0.272      0.786      -0.011       0.008\n",
      "estu_perim         -1.019e-07   9.51e-08     -1.071      0.287   -2.91e-07    8.69e-08\n",
      "land_area          -7.513e-13   8.26e-13     -0.910      0.365   -2.39e-12    8.88e-13\n",
      "land_latitude         -0.1135      0.069     -1.637      0.105      -0.251       0.024\n",
      "land_longitude        -0.0025      0.009     -0.297      0.767      -0.019       0.014\n",
      "population           3.08e-08   3.18e-08      0.968      0.335   -3.24e-08     9.4e-08\n",
      "tide_ht                0.1150      0.097      1.184      0.239      -0.078       0.308\n",
      "estu_salinity          0.0059      0.010      0.601      0.549      -0.014       0.025\n",
      "air_temp_mean         -0.2540      0.112     -2.269      0.026      -0.476      -0.032\n",
      "ocean_sst_mean         0.1701      0.062      2.766      0.007       0.048       0.292\n",
      "ocean_diss_inorg_p    -5.6647      1.755     -3.229      0.002      -9.147      -2.182\n",
      "ocean_no3             -0.1894      0.126     -1.497      0.138      -0.440       0.062\n",
      "tide_flow          -3.085e-11    4.4e-11     -0.702      0.485   -1.18e-10    5.64e-11\n",
      "mean_precip           -0.0004      0.000     -1.952      0.054      -0.001    7.12e-06\n",
      "mean_temp             -0.0101      0.103     -0.098      0.922      -0.214       0.194\n",
      "soc_density            2.8029      2.673      1.048      0.297      -2.503       8.109\n",
      "==============================================================================\n",
      "Omnibus:                        2.111   Durbin-Watson:                   0.571\n",
      "Prob(Omnibus):                  0.348   Jarque-Bera (JB):                1.561\n",
      "Skew:                           0.213   Prob(JB):                        0.458\n",
      "Kurtosis:                       3.384   Cond. No.                     2.04e+13\n",
      "==============================================================================\n",
      "\n",
      "Notes:\n",
      "[1] Standard Errors assume that the covariance matrix of the errors is correctly specified.\n",
      "[2] The condition number is large, 2.04e+13. This might indicate that there are\n",
      "strong multicollinearity or other numerical problems.\n"
     ]
    },
    {
     "data": {
      "text/plain": [
       "<utils.Linear_Reg_Diagnostic at 0x156c19f9670>"
      ]
     },
     "execution_count": 4,
     "metadata": {},
     "output_type": "execute_result"
    }
   ],
   "source": [
    "\n",
    "\n",
    "X = df[['estu_dep', 'estu_perim' ,'land_area' ,'land_latitude' ,'land_longitude' ,'population' ,'tide_ht','estu_salinity', 'air_temp_mean' ,  'ocean_sst_mean' ,'ocean_diss_inorg_p', 'ocean_no3' , 'tide_flow', 'mean_precip' , 'mean_temp', 'soc_density']]\n",
    "y = df['ocean_salinity_mean']\n",
    "\n",
    "\n",
    "X.dropna(inplace=True)\n",
    "y = y[X.index]\n",
    "\n",
    "from sklearn.linear_model import LinearRegression\n",
    "\n",
    "model = LinearRegression()\n",
    "model.fit(X, y)\n",
    "\n",
    "from sklearn.metrics import r2_score\n",
    "\n",
    "y_pred = model.predict(X)\n",
    "print(f\"R-squared value: {r2_score(y, y_pred)}\")\n",
    "\n",
    "\n",
    "import statsmodels.api as sm\n",
    "from statsmodels.stats.outliers_influence import variance_inflation_factor\n",
    "\n",
    "X = sm.add_constant(X)  \n",
    "model = sm.OLS(y, X).fit()\n",
    "\n",
    "print(model.summary())\n",
    "\n",
    "Linear_Reg_Diagnostic(model)\n"
   ]
  },
  {
   "attachments": {},
   "cell_type": "markdown",
   "metadata": {},
   "source": [
    "## Question 3 \n",
    "\n",
    "Using the `coal-production.csv` data, model the proportion of electricity produced with coal in high income countries over time with an ARIMA model. \n",
    "\n",
    "Process the data to be useable for time series analysis. (2 pt)\n",
    "\n",
    "Display your data. Does it appear to have a trend? If so, describe the trend. (1 pt)\n",
    "\n",
    "Test for stationarity. (1 pt)\n",
    "\n",
    "Make an ARIMA model of the time series, either by manually testing different types, or with an auto-ARIMA. What type of ARIMA model was found to be the best fit? (2 pt)\n",
    "\n",
    "Visualize the fitted values of the ARIMA model, being sure to label each line. (2 pt)\n",
    "\n",
    "Make a forecast for 25 years after the conclusion of the time series and visualize with observed and fitted values. (2 pt)"
   ]
  },
  {
   "cell_type": "code",
   "execution_count": 1,
   "metadata": {},
   "outputs": [],
   "source": [
    "import numpy as np\n",
    "import pandas as pd\n",
    "import matplotlib.pyplot as plt"
   ]
  },
  {
   "cell_type": "code",
   "execution_count": 30,
   "metadata": {},
   "outputs": [
    {
     "data": {
      "text/html": [
       "<div>\n",
       "<style scoped>\n",
       "    .dataframe tbody tr th:only-of-type {\n",
       "        vertical-align: middle;\n",
       "    }\n",
       "\n",
       "    .dataframe tbody tr th {\n",
       "        vertical-align: top;\n",
       "    }\n",
       "\n",
       "    .dataframe thead th {\n",
       "        text-align: right;\n",
       "    }\n",
       "</style>\n",
       "<table border=\"1\" class=\"dataframe\">\n",
       "  <thead>\n",
       "    <tr style=\"text-align: right;\">\n",
       "      <th></th>\n",
       "      <th>year</th>\n",
       "      <th>electricity_prod</th>\n",
       "    </tr>\n",
       "  </thead>\n",
       "  <tbody>\n",
       "    <tr>\n",
       "      <th>0</th>\n",
       "      <td>1960</td>\n",
       "      <td>45.904345</td>\n",
       "    </tr>\n",
       "    <tr>\n",
       "      <th>1</th>\n",
       "      <td>1961</td>\n",
       "      <td>45.730794</td>\n",
       "    </tr>\n",
       "    <tr>\n",
       "      <th>2</th>\n",
       "      <td>1962</td>\n",
       "      <td>46.411172</td>\n",
       "    </tr>\n",
       "    <tr>\n",
       "      <th>3</th>\n",
       "      <td>1963</td>\n",
       "      <td>46.599523</td>\n",
       "    </tr>\n",
       "    <tr>\n",
       "      <th>4</th>\n",
       "      <td>1964</td>\n",
       "      <td>46.102588</td>\n",
       "    </tr>\n",
       "  </tbody>\n",
       "</table>\n",
       "</div>"
      ],
      "text/plain": [
       "   year  electricity_prod\n",
       "0  1960         45.904345\n",
       "1  1961         45.730794\n",
       "2  1962         46.411172\n",
       "3  1963         46.599523\n",
       "4  1964         46.102588"
      ]
     },
     "execution_count": 30,
     "metadata": {},
     "output_type": "execute_result"
    }
   ],
   "source": [
    "df2 = pd.read_csv('/Users/gabit/OneDrive/Desktop/Spring 2023/Data Analysis/assignment-5/data/coal-production.csv')\n",
    "df2.head()"
   ]
  },
  {
   "cell_type": "code",
   "execution_count": 31,
   "metadata": {},
   "outputs": [],
   "source": [
    "df2['year'] = pd.to_datetime(df2['year'], format='%Y')\n",
    "df2 = df2.set_index('year').sort_index()\n",
    "\n",
    "\n"
   ]
  },
  {
   "cell_type": "code",
   "execution_count": 32,
   "metadata": {},
   "outputs": [
    {
     "data": {
      "text/plain": [
       "Text(0, 0.5, 'Electricity')"
      ]
     },
     "execution_count": 32,
     "metadata": {},
     "output_type": "execute_result"
    },
    {
     "data": {
      "image/png": "[encoded data removed]",
      "text/plain": [
       "<Figure size 640x480 with 1 Axes>"
      ]
     },
     "metadata": {},
     "output_type": "display_data"
    }
   ],
   "source": [
    "fig, ax = plt.subplots()\n",
    "ax.plot(df2['electricity_prod']);\n",
    "ax.set_xlabel('Year')\n",
    "ax.set_ylabel('Electricity')"
   ]
  },
  {
   "cell_type": "code",
   "execution_count": 33,
   "metadata": {},
   "outputs": [
    {
     "data": {
      "text/plain": [
       "(1.8721544326758233,\n",
       " 0.9984818799941668,\n",
       " 11,\n",
       " 44,\n",
       " {'1%': -3.5885733964124715,\n",
       "  '5%': -2.929885661157025,\n",
       "  '10%': -2.6031845661157025},\n",
       " 118.46409132638483)"
      ]
     },
     "execution_count": 33,
     "metadata": {},
     "output_type": "execute_result"
    }
   ],
   "source": [
    "from statsmodels.tsa.stattools import adfuller\n",
    "\n",
    "adfuller(df2)"
   ]
  },
  {
   "cell_type": "code",
   "execution_count": 35,
   "metadata": {},
   "outputs": [],
   "source": [
    "from statsmodels.tsa.arima.model import ARIMA\n",
    "\n",
    "\n"
   ]
  },
  {
   "cell_type": "code",
   "execution_count": 36,
   "metadata": {},
   "outputs": [
    {
     "data": {
      "text/html": [
       "<table class=\"simpletable\">\n",
       "<caption>SARIMAX Results</caption>\n",
       "<tr>\n",
       "  <th>Dep. Variable:</th>           <td>y</td>        <th>  No. Observations:  </th>   <td>56</td>   \n",
       "</tr>\n",
       "<tr>\n",
       "  <th>Model:</th>           <td>SARIMAX(1, 1, 1)</td> <th>  Log Likelihood     </th> <td>-71.684</td>\n",
       "</tr>\n",
       "<tr>\n",
       "  <th>Date:</th>            <td>Wed, 10 May 2023</td> <th>  AIC                </th> <td>149.368</td>\n",
       "</tr>\n",
       "<tr>\n",
       "  <th>Time:</th>                <td>17:08:31</td>     <th>  BIC                </th> <td>155.390</td>\n",
       "</tr>\n",
       "<tr>\n",
       "  <th>Sample:</th>             <td>01-01-1960</td>    <th>  HQIC               </th> <td>151.697</td>\n",
       "</tr>\n",
       "<tr>\n",
       "  <th></th>                   <td>- 01-01-2015</td>   <th>                     </th>    <td> </td>   \n",
       "</tr>\n",
       "<tr>\n",
       "  <th>Covariance Type:</th>        <td>opg</td>       <th>                     </th>    <td> </td>   \n",
       "</tr>\n",
       "</table>\n",
       "<table class=\"simpletable\">\n",
       "<tr>\n",
       "     <td></td>       <th>coef</th>     <th>std err</th>      <th>z</th>      <th>P>|z|</th>  <th>[0.025</th>    <th>0.975]</th>  \n",
       "</tr>\n",
       "<tr>\n",
       "  <th>ar.L1</th>  <td>    0.8478</td> <td>    0.140</td> <td>    6.074</td> <td> 0.000</td> <td>    0.574</td> <td>    1.121</td>\n",
       "</tr>\n",
       "<tr>\n",
       "  <th>ma.L1</th>  <td>   -0.6020</td> <td>    0.230</td> <td>   -2.622</td> <td> 0.009</td> <td>   -1.052</td> <td>   -0.152</td>\n",
       "</tr>\n",
       "<tr>\n",
       "  <th>sigma2</th> <td>    0.7894</td> <td>    0.171</td> <td>    4.604</td> <td> 0.000</td> <td>    0.453</td> <td>    1.125</td>\n",
       "</tr>\n",
       "</table>\n",
       "<table class=\"simpletable\">\n",
       "<tr>\n",
       "  <th>Ljung-Box (L1) (Q):</th>     <td>0.17</td> <th>  Jarque-Bera (JB):  </th> <td>1.33</td>\n",
       "</tr>\n",
       "<tr>\n",
       "  <th>Prob(Q):</th>                <td>0.68</td> <th>  Prob(JB):          </th> <td>0.51</td>\n",
       "</tr>\n",
       "<tr>\n",
       "  <th>Heteroskedasticity (H):</th> <td>0.72</td> <th>  Skew:              </th> <td>0.36</td>\n",
       "</tr>\n",
       "<tr>\n",
       "  <th>Prob(H) (two-sided):</th>    <td>0.49</td> <th>  Kurtosis:          </th> <td>3.24</td>\n",
       "</tr>\n",
       "</table><br/><br/>Warnings:<br/>[1] Covariance matrix calculated using the outer product of gradients (complex-step)."
      ],
      "text/plain": [
       "<class 'statsmodels.iolib.summary.Summary'>\n",
       "\"\"\"\n",
       "                               SARIMAX Results                                \n",
       "==============================================================================\n",
       "Dep. Variable:                      y   No. Observations:                   56\n",
       "Model:               SARIMAX(1, 1, 1)   Log Likelihood                 -71.684\n",
       "Date:                Wed, 10 May 2023   AIC                            149.368\n",
       "Time:                        17:08:31   BIC                            155.390\n",
       "Sample:                    01-01-1960   HQIC                           151.697\n",
       "                         - 01-01-2015                                         \n",
       "Covariance Type:                  opg                                         \n",
       "==============================================================================\n",
       "                 coef    std err          z      P>|z|      [0.025      0.975]\n",
       "------------------------------------------------------------------------------\n",
       "ar.L1          0.8478      0.140      6.074      0.000       0.574       1.121\n",
       "ma.L1         -0.6020      0.230     -2.622      0.009      -1.052      -0.152\n",
       "sigma2         0.7894      0.171      4.604      0.000       0.453       1.125\n",
       "===================================================================================\n",
       "Ljung-Box (L1) (Q):                   0.17   Jarque-Bera (JB):                 1.33\n",
       "Prob(Q):                              0.68   Prob(JB):                         0.51\n",
       "Heteroskedasticity (H):               0.72   Skew:                             0.36\n",
       "Prob(H) (two-sided):                  0.49   Kurtosis:                         3.24\n",
       "===================================================================================\n",
       "\n",
       "Warnings:\n",
       "[1] Covariance matrix calculated using the outer product of gradients (complex-step).\n",
       "\"\"\""
      ]
     },
     "execution_count": 36,
     "metadata": {},
     "output_type": "execute_result"
    }
   ],
   "source": [
    "from pmdarima import auto_arima\n",
    "\n",
    "auto_arima_model = auto_arima(df2['electricity_prod'])\n",
    "auto_arima_model.summary()\n",
    "\n",
    "\n",
    "\n"
   ]
  },
  {
   "cell_type": "code",
   "execution_count": 44,
   "metadata": {},
   "outputs": [
    {
     "data": {
      "image/png": "[encoded data removed]",
      "text/plain": [
       "<Figure size 640x480 with 1 Axes>"
      ]
     },
     "metadata": {},
     "output_type": "display_data"
    }
   ],
   "source": [
    "in_samp_pred = auto_arima_model.predict_in_sample()\n",
    "in_samp_pred = pd.Series(in_samp_pred, index=df2.index)\n",
    "\n",
    "fig, ax = plt.subplots()\n",
    "ax.plot(df2, label='observed')\n",
    "ax.plot(in_samp_pred[1:], label='predicted')\n",
    "ax.set_xlabel('Year')\n",
    "ax.set_ylabel('Electricity')\n",
    "ax.legend();\n",
    "\n"
   ]
  },
  {
   "cell_type": "code",
   "execution_count": 49,
   "metadata": {},
   "outputs": [
    {
     "data": {
      "image/png": "[encoded data removed]",
      "text/plain": [
       "<Figure size 640x480 with 1 Axes>"
      ]
     },
     "metadata": {},
     "output_type": "display_data"
    }
   ],
   "source": [
    "forecast, ci = auto_arima_model.predict(25, return_conf_int=True)\n",
    "future_dates = pd.date_range(df2.index[-1], periods=26, freq='AS-JAN', inclusive='neither')\n",
    "\n",
    "fig, ax = plt.subplots()\n",
    "ax.plot(df2[1:], label='observed')\n",
    "ax.plot(in_samp_pred[1:], label='predicted')\n",
    "ax.plot(future_dates, forecast, label='forecast')\n",
    "ax.fill_between(future_dates, ci[:,0], ci[:,1], color = 'gray', alpha=.05)\n",
    "ax.set_xlabel('Year')\n",
    "ax.set_ylabel('electricity')\n",
    "ax.legend();\n"
   ]
  }
 ],
 "metadata": {
  "kernelspec": {
   "display_name": "Python 3.11.3 ('time-series')",
   "language": "python",
   "name": "python3"
  },
  "language_info": {
   "codemirror_mode": {
    "name": "ipython",
    "version": 3
   },
   "file_extension": ".py",
   "mimetype": "text/x-python",
   "name": "python",
   "nbconvert_exporter": "python",
   "pygments_lexer": "ipython3",
   "version": "3.9.13"
  },
  "orig_nbformat": 4,
  "vscode": {
   "interpreter": {
    "hash": "a303c11e8785c1b2480da0695abe9a60892cf1bcf7ac7186f15d6c1c9175fad9"
   }
  }
 },
 "nbformat": 4,
 "nbformat_minor": 2
}
